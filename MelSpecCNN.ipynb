{
 "cells": [
  {
   "cell_type": "markdown",
   "metadata": {},
   "source": [
    "# Imports"
   ]
  },
  {
   "cell_type": "code",
   "execution_count": 40,
   "metadata": {},
   "outputs": [],
   "source": [
    "import pandas as pd\n",
    "import numpy as np\n",
    "\n",
    "import librosa\n",
    "import librosa.display\n",
    "\n",
    "import matplotlib.pyplot as plt\n",
    "import seaborn as sns\n",
    "\n",
    "from tqdm import tqdm"
   ]
  },
  {
   "cell_type": "markdown",
   "metadata": {},
   "source": [
    "# Load Feature File"
   ]
  },
  {
   "cell_type": "markdown",
   "metadata": {},
   "source": [
    "This file contains multiple features that were used for exploration with a CNN ensemble. However, for this specific model, only the Mel Spectrogram feature will be used."
   ]
  },
  {
   "cell_type": "code",
   "execution_count": 2,
   "metadata": {},
   "outputs": [],
   "source": [
    "df = pd.read_pickle('features.csv')"
   ]
  },
  {
   "cell_type": "code",
   "execution_count": 3,
   "metadata": {},
   "outputs": [
    {
     "data": {
      "text/html": [
       "<div>\n",
       "<style scoped>\n",
       "    .dataframe tbody tr th:only-of-type {\n",
       "        vertical-align: middle;\n",
       "    }\n",
       "\n",
       "    .dataframe tbody tr th {\n",
       "        vertical-align: top;\n",
       "    }\n",
       "\n",
       "    .dataframe thead th {\n",
       "        text-align: right;\n",
       "    }\n",
       "</style>\n",
       "<table border=\"1\" class=\"dataframe\">\n",
       "  <thead>\n",
       "    <tr style=\"text-align: right;\">\n",
       "      <th></th>\n",
       "      <th>file</th>\n",
       "      <th>label</th>\n",
       "      <th>mel_spec</th>\n",
       "      <th>chroma</th>\n",
       "      <th>mfcc</th>\n",
       "    </tr>\n",
       "  </thead>\n",
       "  <tbody>\n",
       "    <tr>\n",
       "      <th>0</th>\n",
       "      <td>data/train/train1.aiff</td>\n",
       "      <td>0</td>\n",
       "      <td>[[-23.034714, -21.979626, -21.229372, -24.6853...</td>\n",
       "      <td>[[0.31054255, 0.492938, 0.4222786, 0.2000359, ...</td>\n",
       "      <td>[[-583.5913, -585.6181, -586.71844, -586.3785,...</td>\n",
       "    </tr>\n",
       "    <tr>\n",
       "      <th>1</th>\n",
       "      <td>data/train/train2.aiff</td>\n",
       "      <td>0</td>\n",
       "      <td>[[-39.132935, -43.144306, -44.267673, -40.4978...</td>\n",
       "      <td>[[0.77240217, 0.4858926, 0.57792246, 0.6777284...</td>\n",
       "      <td>[[-551.0518, -595.86365, -686.11633, -690.5628...</td>\n",
       "    </tr>\n",
       "    <tr>\n",
       "      <th>2</th>\n",
       "      <td>data/train/train3.aiff</td>\n",
       "      <td>0</td>\n",
       "      <td>[[-29.182926, -34.866005, -49.983154, -50.7379...</td>\n",
       "      <td>[[0.34971952, 0.612205, 0.78210807, 1.0, 0.630...</td>\n",
       "      <td>[[-580.9305, -609.74207, -674.57465, -674.7717...</td>\n",
       "    </tr>\n",
       "    <tr>\n",
       "      <th>3</th>\n",
       "      <td>data/train/train4.aiff</td>\n",
       "      <td>0</td>\n",
       "      <td>[[-38.25903, -41.157684, -50.174606, -53.21215...</td>\n",
       "      <td>[[0.9187672, 1.0, 0.65901333, 1.0, 1.0, 0.5160...</td>\n",
       "      <td>[[-655.11835, -657.95215, -661.39966, -655.009...</td>\n",
       "    </tr>\n",
       "    <tr>\n",
       "      <th>4</th>\n",
       "      <td>data/train/train5.aiff</td>\n",
       "      <td>0</td>\n",
       "      <td>[[-29.123068, -35.563293, -50.79712, -52.36865...</td>\n",
       "      <td>[[0.9564307, 0.88239145, 1.0, 1.0, 0.52427757,...</td>\n",
       "      <td>[[-556.8616, -578.51294, -618.99274, -616.5934...</td>\n",
       "    </tr>\n",
       "  </tbody>\n",
       "</table>\n",
       "</div>"
      ],
      "text/plain": [
       "                     file  label  \\\n",
       "0  data/train/train1.aiff      0   \n",
       "1  data/train/train2.aiff      0   \n",
       "2  data/train/train3.aiff      0   \n",
       "3  data/train/train4.aiff      0   \n",
       "4  data/train/train5.aiff      0   \n",
       "\n",
       "                                            mel_spec  \\\n",
       "0  [[-23.034714, -21.979626, -21.229372, -24.6853...   \n",
       "1  [[-39.132935, -43.144306, -44.267673, -40.4978...   \n",
       "2  [[-29.182926, -34.866005, -49.983154, -50.7379...   \n",
       "3  [[-38.25903, -41.157684, -50.174606, -53.21215...   \n",
       "4  [[-29.123068, -35.563293, -50.79712, -52.36865...   \n",
       "\n",
       "                                              chroma  \\\n",
       "0  [[0.31054255, 0.492938, 0.4222786, 0.2000359, ...   \n",
       "1  [[0.77240217, 0.4858926, 0.57792246, 0.6777284...   \n",
       "2  [[0.34971952, 0.612205, 0.78210807, 1.0, 0.630...   \n",
       "3  [[0.9187672, 1.0, 0.65901333, 1.0, 1.0, 0.5160...   \n",
       "4  [[0.9564307, 0.88239145, 1.0, 1.0, 0.52427757,...   \n",
       "\n",
       "                                                mfcc  \n",
       "0  [[-583.5913, -585.6181, -586.71844, -586.3785,...  \n",
       "1  [[-551.0518, -595.86365, -686.11633, -690.5628...  \n",
       "2  [[-580.9305, -609.74207, -674.57465, -674.7717...  \n",
       "3  [[-655.11835, -657.95215, -661.39966, -655.009...  \n",
       "4  [[-556.8616, -578.51294, -618.99274, -616.5934...  "
      ]
     },
     "execution_count": 3,
     "metadata": {},
     "output_type": "execute_result"
    }
   ],
   "source": [
    "df.head()"
   ]
  },
  {
   "cell_type": "markdown",
   "metadata": {},
   "source": [
    "# Define Features and Target"
   ]
  },
  {
   "cell_type": "code",
   "execution_count": 4,
   "metadata": {},
   "outputs": [],
   "source": [
    "X = df['mel_spec']\n",
    "y = df['label']"
   ]
  },
  {
   "cell_type": "markdown",
   "metadata": {},
   "source": [
    "# Convert Data"
   ]
  },
  {
   "cell_type": "code",
   "execution_count": 5,
   "metadata": {},
   "outputs": [],
   "source": [
    "from sklearn.preprocessing import LabelEncoder\n",
    "from tensorflow.keras.utils import to_categorical"
   ]
  },
  {
   "cell_type": "code",
   "execution_count": 6,
   "metadata": {},
   "outputs": [],
   "source": [
    "X = np.array(X.tolist())\n",
    "y = np.array(y.tolist())"
   ]
  },
  {
   "cell_type": "markdown",
   "metadata": {},
   "source": [
    "The labels are already binary, but the CNN expects inputs to be certain shapes. Labels will be encoded to create the expected shape."
   ]
  },
  {
   "cell_type": "code",
   "execution_count": 7,
   "metadata": {},
   "outputs": [],
   "source": [
    "le = LabelEncoder()\n",
    "yy = to_categorical(le.fit_transform(y)) "
   ]
  },
  {
   "cell_type": "markdown",
   "metadata": {},
   "source": [
    "# Split Data"
   ]
  },
  {
   "cell_type": "code",
   "execution_count": 8,
   "metadata": {},
   "outputs": [],
   "source": [
    "from sklearn.model_selection import train_test_split"
   ]
  },
  {
   "cell_type": "code",
   "execution_count": 9,
   "metadata": {},
   "outputs": [],
   "source": [
    "x_train, x_test, y_train, y_test = train_test_split(X, yy, test_size=0.2, random_state = 42)"
   ]
  },
  {
   "cell_type": "markdown",
   "metadata": {},
   "source": [
    "# Model"
   ]
  },
  {
   "cell_type": "markdown",
   "metadata": {},
   "source": [
    "### Model Imports"
   ]
  },
  {
   "cell_type": "code",
   "execution_count": 10,
   "metadata": {},
   "outputs": [],
   "source": [
    "from tensorflow.keras.models import Sequential\n",
    "from tensorflow.keras.layers import Dense, Dropout, Activation, Flatten\n",
    "from tensorflow.keras.layers import Convolution2D, Conv2D, MaxPooling2D, GlobalAveragePooling2D\n",
    "from tensorflow.keras.optimizers import Adam\n",
    "from sklearn import metrics "
   ]
  },
  {
   "cell_type": "markdown",
   "metadata": {},
   "source": [
    "### Reshape the Input"
   ]
  },
  {
   "cell_type": "markdown",
   "metadata": {},
   "source": [
    "As follows, the the shape of the input is currently 3D, but is the model will be expecting 4D. The input will be reshaped into 4D by including the numbers of channels(1=greyscale, 2=color). Color is not importent to this project, so greyscale is chosen for the channel."
   ]
  },
  {
   "cell_type": "code",
   "execution_count": 11,
   "metadata": {},
   "outputs": [
    {
     "data": {
      "text/plain": [
       "(24000, 128, 87)"
      ]
     },
     "execution_count": 11,
     "metadata": {},
     "output_type": "execute_result"
    }
   ],
   "source": [
    "x_train.shape"
   ]
  },
  {
   "cell_type": "code",
   "execution_count": 12,
   "metadata": {},
   "outputs": [],
   "source": [
    "num_rows = 87\n",
    "num_columns = 128\n",
    "num_channels = 1"
   ]
  },
  {
   "cell_type": "code",
   "execution_count": 13,
   "metadata": {},
   "outputs": [],
   "source": [
    "x_train = x_train.reshape(x_train.shape[0], num_rows, num_columns, num_channels)\n",
    "x_test = x_test.reshape(x_test.shape[0], num_rows, num_columns, num_channels)"
   ]
  },
  {
   "cell_type": "code",
   "execution_count": 14,
   "metadata": {},
   "outputs": [
    {
     "data": {
      "text/plain": [
       "(24000, 87, 128, 1)"
      ]
     },
     "execution_count": 14,
     "metadata": {},
     "output_type": "execute_result"
    }
   ],
   "source": [
    "x_train.shape"
   ]
  },
  {
   "cell_type": "code",
   "execution_count": 15,
   "metadata": {},
   "outputs": [],
   "source": [
    "num_labels = yy.shape[1]\n",
    "filter_size = 2"
   ]
  },
  {
   "cell_type": "markdown",
   "metadata": {},
   "source": [
    "### Construct the Model"
   ]
  },
  {
   "cell_type": "markdown",
   "metadata": {},
   "source": [
    "Sequential groups a linear stack of layers into the model. <br/>\n",
    "<br/>\n",
    "The rectified linear activation function or ReLU for short is a piecewise linear function that will output the input directly if it is positive, otherwise, it will output zero. It has become the default activation function for many types of neural networks because a model that uses it is easier to train and often achieves better performance. https://machinelearningmastery.com/rectified-linear-activation-function-for-deep-learning-neural-networks/ <br/>\n",
    "<br/>\n",
    "Softmax is a type of activation for classification."
   ]
  },
  {
   "cell_type": "code",
   "execution_count": 16,
   "metadata": {},
   "outputs": [],
   "source": [
    "model = Sequential()\n",
    "model.add(Conv2D(filters=16, kernel_size=2, input_shape=(num_rows, num_columns, num_channels), activation='relu'))\n",
    "model.add(MaxPooling2D(pool_size=2))\n",
    "model.add(Dropout(0.2))\n",
    "\n",
    "model.add(Conv2D(filters=32, kernel_size=2, activation='relu'))\n",
    "model.add(MaxPooling2D(pool_size=2))\n",
    "model.add(Dropout(0.2))\n",
    "\n",
    "model.add(Conv2D(filters=64, kernel_size=2, activation='relu'))\n",
    "model.add(MaxPooling2D(pool_size=2))\n",
    "model.add(Dropout(0.2))\n",
    "\n",
    "model.add(Conv2D(filters=128, kernel_size=2, activation='relu'))\n",
    "model.add(MaxPooling2D(pool_size=2))\n",
    "model.add(Dropout(0.2))\n",
    "model.add(GlobalAveragePooling2D())\n",
    "\n",
    "model.add(Dense(num_labels, activation='softmax'))"
   ]
  },
  {
   "cell_type": "markdown",
   "metadata": {},
   "source": [
    "### Compile Model and Perform a Quick Test Run"
   ]
  },
  {
   "cell_type": "code",
   "execution_count": 17,
   "metadata": {},
   "outputs": [
    {
     "name": "stdout",
     "output_type": "stream",
     "text": [
      "Model: \"sequential\"\n",
      "_________________________________________________________________\n",
      "Layer (type)                 Output Shape              Param #   \n",
      "=================================================================\n",
      "conv2d (Conv2D)              (None, 86, 127, 16)       80        \n",
      "_________________________________________________________________\n",
      "max_pooling2d (MaxPooling2D) (None, 43, 63, 16)        0         \n",
      "_________________________________________________________________\n",
      "dropout (Dropout)            (None, 43, 63, 16)        0         \n",
      "_________________________________________________________________\n",
      "conv2d_1 (Conv2D)            (None, 42, 62, 32)        2080      \n",
      "_________________________________________________________________\n",
      "max_pooling2d_1 (MaxPooling2 (None, 21, 31, 32)        0         \n",
      "_________________________________________________________________\n",
      "dropout_1 (Dropout)          (None, 21, 31, 32)        0         \n",
      "_________________________________________________________________\n",
      "conv2d_2 (Conv2D)            (None, 20, 30, 64)        8256      \n",
      "_________________________________________________________________\n",
      "max_pooling2d_2 (MaxPooling2 (None, 10, 15, 64)        0         \n",
      "_________________________________________________________________\n",
      "dropout_2 (Dropout)          (None, 10, 15, 64)        0         \n",
      "_________________________________________________________________\n",
      "conv2d_3 (Conv2D)            (None, 9, 14, 128)        32896     \n",
      "_________________________________________________________________\n",
      "max_pooling2d_3 (MaxPooling2 (None, 4, 7, 128)         0         \n",
      "_________________________________________________________________\n",
      "dropout_3 (Dropout)          (None, 4, 7, 128)         0         \n",
      "_________________________________________________________________\n",
      "global_average_pooling2d (Gl (None, 128)               0         \n",
      "_________________________________________________________________\n",
      "dense (Dense)                (None, 2)                 258       \n",
      "=================================================================\n",
      "Total params: 43,570\n",
      "Trainable params: 43,570\n",
      "Non-trainable params: 0\n",
      "_________________________________________________________________\n",
      "188/188 [==============================] - 7s 36ms/step - loss: 0.7171 - accuracy: 0.4363\n",
      "Pre-training accuracy: 43.6333%\n"
     ]
    }
   ],
   "source": [
    "# Compile the model\n",
    "model.compile(loss='categorical_crossentropy', metrics=['accuracy'], optimizer='adam')\n",
    "\n",
    "# Display model architecture summary \n",
    "model.summary()\n",
    "\n",
    "# Calculate pre-training accuracy \n",
    "score = model.evaluate(x_test, y_test, verbose=1)\n",
    "accuracy = 100*score[1]\n",
    "\n",
    "print(\"Pre-training accuracy: %.4f%%\" % accuracy) "
   ]
  },
  {
   "cell_type": "markdown",
   "metadata": {},
   "source": [
    "### Define Callbacks"
   ]
  },
  {
   "cell_type": "code",
   "execution_count": 22,
   "metadata": {},
   "outputs": [],
   "source": [
    "from tensorflow.keras.callbacks import ModelCheckpoint \n",
    "from datetime import datetime\n",
    "\n",
    "checkpointer = ModelCheckpoint(filepath='saved_models/weights.best.melspec_cnn.hdf5', \n",
    "                               verbose=1, save_best_only=True)\n",
    "\n",
    "#Define early_stopping_monitor\n",
    "from tensorflow.keras.callbacks import EarlyStopping\n",
    "early_stopping_monitor = EarlyStopping(patience=10)\n",
    "\n",
    "my_callbacks = [early_stopping_monitor, checkpointer]"
   ]
  },
  {
   "cell_type": "markdown",
   "metadata": {},
   "source": [
    "### Train the Model"
   ]
  },
  {
   "cell_type": "code",
   "execution_count": 25,
   "metadata": {},
   "outputs": [
    {
     "name": "stdout",
     "output_type": "stream",
     "text": [
      "Epoch 1/100\n",
      "2400/2400 [==============================] - 63s 26ms/step - loss: 0.2296 - accuracy: 0.9020 - val_loss: 0.2439 - val_accuracy: 0.8910\n",
      "\n",
      "Epoch 00001: val_loss did not improve from 0.23584\n",
      "Epoch 2/100\n",
      "2400/2400 [==============================] - 74s 31ms/step - loss: 0.2283 - accuracy: 0.9007 - val_loss: 0.2446 - val_accuracy: 0.8965\n",
      "\n",
      "Epoch 00002: val_loss did not improve from 0.23584\n",
      "Epoch 3/100\n",
      "2400/2400 [==============================] - 62s 26ms/step - loss: 0.2289 - accuracy: 0.9027 - val_loss: 0.2548 - val_accuracy: 0.8863\n",
      "\n",
      "Epoch 00003: val_loss did not improve from 0.23584\n",
      "Epoch 4/100\n",
      "2400/2400 [==============================] - 63s 26ms/step - loss: 0.2258 - accuracy: 0.9028 - val_loss: 0.2354 - val_accuracy: 0.8990\n",
      "\n",
      "Epoch 00004: val_loss improved from 0.23584 to 0.23541, saving model to saved_models/weights.best.melspec_cnn.hdf5\n",
      "Epoch 5/100\n",
      "2400/2400 [==============================] - 62s 26ms/step - loss: 0.2268 - accuracy: 0.9040 - val_loss: 0.2428 - val_accuracy: 0.8922\n",
      "\n",
      "Epoch 00005: val_loss did not improve from 0.23541\n",
      "Epoch 6/100\n",
      "2400/2400 [==============================] - 62s 26ms/step - loss: 0.2285 - accuracy: 0.9013 - val_loss: 0.2374 - val_accuracy: 0.8950\n",
      "\n",
      "Epoch 00006: val_loss did not improve from 0.23541\n",
      "Epoch 7/100\n",
      "2400/2400 [==============================] - 63s 26ms/step - loss: 0.2263 - accuracy: 0.9044 - val_loss: 0.2285 - val_accuracy: 0.9005\n",
      "\n",
      "Epoch 00007: val_loss improved from 0.23541 to 0.22854, saving model to saved_models/weights.best.melspec_cnn.hdf5\n",
      "Epoch 8/100\n",
      "2400/2400 [==============================] - 63s 26ms/step - loss: 0.2265 - accuracy: 0.9047 - val_loss: 0.2361 - val_accuracy: 0.8960\n",
      "\n",
      "Epoch 00008: val_loss did not improve from 0.22854\n",
      "Epoch 9/100\n",
      "2400/2400 [==============================] - 63s 26ms/step - loss: 0.2287 - accuracy: 0.9012 - val_loss: 0.2325 - val_accuracy: 0.8975\n",
      "\n",
      "Epoch 00009: val_loss did not improve from 0.22854\n",
      "Epoch 10/100\n",
      "2400/2400 [==============================] - 63s 26ms/step - loss: 0.2279 - accuracy: 0.9017 - val_loss: 0.2277 - val_accuracy: 0.8998\n",
      "\n",
      "Epoch 00010: val_loss improved from 0.22854 to 0.22767, saving model to saved_models/weights.best.melspec_cnn.hdf5\n",
      "Epoch 11/100\n",
      "2400/2400 [==============================] - 63s 26ms/step - loss: 0.2238 - accuracy: 0.9054 - val_loss: 0.2534 - val_accuracy: 0.8828\n",
      "\n",
      "Epoch 00011: val_loss did not improve from 0.22767\n",
      "Epoch 12/100\n",
      "2400/2400 [==============================] - 63s 26ms/step - loss: 0.2250 - accuracy: 0.9035 - val_loss: 0.2520 - val_accuracy: 0.8898\n",
      "\n",
      "Epoch 00012: val_loss did not improve from 0.22767\n",
      "Epoch 13/100\n",
      "2400/2400 [==============================] - 63s 26ms/step - loss: 0.2252 - accuracy: 0.9046 - val_loss: 0.2380 - val_accuracy: 0.8950\n",
      "\n",
      "Epoch 00013: val_loss did not improve from 0.22767\n",
      "Epoch 14/100\n",
      "2400/2400 [==============================] - 63s 26ms/step - loss: 0.2250 - accuracy: 0.9026 - val_loss: 0.2320 - val_accuracy: 0.9003\n",
      "\n",
      "Epoch 00014: val_loss did not improve from 0.22767\n",
      "Epoch 15/100\n",
      "2400/2400 [==============================] - 63s 26ms/step - loss: 0.2270 - accuracy: 0.9003 - val_loss: 0.2453 - val_accuracy: 0.8928\n",
      "\n",
      "Epoch 00015: val_loss did not improve from 0.22767\n",
      "Epoch 16/100\n",
      "2400/2400 [==============================] - 63s 26ms/step - loss: 0.2252 - accuracy: 0.9028 - val_loss: 0.2333 - val_accuracy: 0.9042\n",
      "\n",
      "Epoch 00016: val_loss did not improve from 0.22767\n",
      "Epoch 17/100\n",
      "2400/2400 [==============================] - 63s 26ms/step - loss: 0.2242 - accuracy: 0.9035 - val_loss: 0.2383 - val_accuracy: 0.8935\n",
      "\n",
      "Epoch 00017: val_loss did not improve from 0.22767\n",
      "Epoch 18/100\n",
      "2400/2400 [==============================] - 63s 26ms/step - loss: 0.2247 - accuracy: 0.9050 - val_loss: 0.2378 - val_accuracy: 0.8965\n",
      "\n",
      "Epoch 00018: val_loss did not improve from 0.22767\n",
      "Epoch 19/100\n",
      "2400/2400 [==============================] - 63s 26ms/step - loss: 0.2235 - accuracy: 0.9035 - val_loss: 0.2305 - val_accuracy: 0.9050\n",
      "\n",
      "Epoch 00019: val_loss did not improve from 0.22767\n",
      "Epoch 20/100\n",
      "2400/2400 [==============================] - 63s 26ms/step - loss: 0.2247 - accuracy: 0.9036 - val_loss: 0.2286 - val_accuracy: 0.9033\n",
      "\n",
      "Epoch 00020: val_loss did not improve from 0.22767\n",
      "Training completed in time:  0:21:07.199501\n"
     ]
    }
   ],
   "source": [
    "from datetime import datetime \n",
    "\n",
    "num_epochs = 100\n",
    "num_batch_size = 10\n",
    "\n",
    "start = datetime.now()\n",
    "\n",
    "training = model.fit(x_train, y_train, batch_size=num_batch_size, epochs=num_epochs, validation_data=(x_test, y_test), callbacks=my_callbacks, verbose=1)\n",
    "\n",
    "\n",
    "duration = datetime.now() - start\n",
    "print(\"Training completed in time: \", duration)"
   ]
  },
  {
   "cell_type": "markdown",
   "metadata": {},
   "source": [
    "### Saving and Loading Model"
   ]
  },
  {
   "cell_type": "code",
   "execution_count": 23,
   "metadata": {},
   "outputs": [
    {
     "name": "stdout",
     "output_type": "stream",
     "text": [
      "INFO:tensorflow:Assets written to: melspeccnn/assets\n"
     ]
    }
   ],
   "source": [
    "model.save('melspeccnn')"
   ]
  },
  {
   "cell_type": "code",
   "execution_count": 19,
   "metadata": {},
   "outputs": [],
   "source": [
    "from tensorflow import keras\n",
    "model = keras.models.load_model('melspeccnn')"
   ]
  },
  {
   "cell_type": "markdown",
   "metadata": {},
   "source": [
    "# Model Evaluation"
   ]
  },
  {
   "cell_type": "markdown",
   "metadata": {},
   "source": [
    "### Save Predictions"
   ]
  },
  {
   "cell_type": "code",
   "execution_count": 20,
   "metadata": {},
   "outputs": [],
   "source": [
    "y_pred = model.predict(x_test)"
   ]
  },
  {
   "cell_type": "markdown",
   "metadata": {},
   "source": [
    "### Accuracy"
   ]
  },
  {
   "cell_type": "code",
   "execution_count": 27,
   "metadata": {},
   "outputs": [
    {
     "name": "stdout",
     "output_type": "stream",
     "text": [
      "Training Accuracy:  0.9281250238418579\n",
      "Testing Accuracy:  0.903333306312561\n"
     ]
    }
   ],
   "source": [
    "# Evaluating the model on the training and testing set\n",
    "score = model.evaluate(x_train, y_train, verbose=0)\n",
    "print(\"Training Accuracy: \", score[1])\n",
    "\n",
    "score = model.evaluate(x_test, y_test, verbose=0)\n",
    "print(\"Testing Accuracy: \", score[1])"
   ]
  },
  {
   "cell_type": "markdown",
   "metadata": {},
   "source": [
    "### Loss"
   ]
  },
  {
   "cell_type": "code",
   "execution_count": 51,
   "metadata": {},
   "outputs": [
    {
     "data": {
      "image/png": "[encoded data removed]",
      "text/plain": [
       "<Figure size 432x288 with 1 Axes>"
      ]
     },
     "metadata": {
      "needs_background": "light"
     },
     "output_type": "display_data"
    }
   ],
   "source": [
    "plt.plot(training.history['loss'], label='Training')\n",
    "plt.plot(training.history['val_loss'], label='Validation')\n",
    "plt.xlabel('epoch')\n",
    "plt.ylabel('loss')\n",
    "plt.xticks(range(1,21))\n",
    "plt.legend(loc='upper right')\n",
    "plt.show();"
   ]
  },
  {
   "cell_type": "markdown",
   "metadata": {},
   "source": [
    "### Confusion Matrix"
   ]
  },
  {
   "cell_type": "code",
   "execution_count": 36,
   "metadata": {},
   "outputs": [],
   "source": [
    "from sklearn.metrics import confusion_matrix\n",
    "from sklearn.metrics import classification_report"
   ]
  },
  {
   "cell_type": "markdown",
   "metadata": {},
   "source": [
    "The predictions are probabilities and need to be converted for the following evaluations."
   ]
  },
  {
   "cell_type": "code",
   "execution_count": 35,
   "metadata": {},
   "outputs": [],
   "source": [
    "y_pred_adj = np.argmax(y_pred, axis=1)"
   ]
  },
  {
   "cell_type": "markdown",
   "metadata": {},
   "source": [
    "As a reminder, 1 indicates a North Atlantic right whale signal, and 0 indicates noise."
   ]
  },
  {
   "cell_type": "code",
   "execution_count": 43,
   "metadata": {},
   "outputs": [],
   "source": [
    "cm = confusion_matrix(y_test[:,1], y_pred_adj)"
   ]
  },
  {
   "cell_type": "code",
   "execution_count": 52,
   "metadata": {},
   "outputs": [
    {
     "data": {
      "image/png": "[encoded data removed]",
      "text/plain": [
       "<Figure size 432x288 with 2 Axes>"
      ]
     },
     "metadata": {
      "needs_background": "light"
     },
     "output_type": "display_data"
    }
   ],
   "source": [
    "sns.heatmap(cm/np.sum(cm) , annot=True, fmt='.2%');"
   ]
  },
  {
   "cell_type": "markdown",
   "metadata": {},
   "source": [
    "### Precision, Recall, F1"
   ]
  },
  {
   "cell_type": "code",
   "execution_count": 46,
   "metadata": {},
   "outputs": [
    {
     "name": "stdout",
     "output_type": "stream",
     "text": [
      "              precision    recall  f1-score   support\n",
      "\n",
      "         0.0       0.92      0.96      0.94      4639\n",
      "         1.0       0.84      0.71      0.77      1361\n",
      "\n",
      "    accuracy                           0.90      6000\n",
      "   macro avg       0.88      0.83      0.85      6000\n",
      "weighted avg       0.90      0.90      0.90      6000\n",
      "\n"
     ]
    }
   ],
   "source": [
    "print(classification_report(y_test[:,1], y_pred))"
   ]
  },
  {
   "cell_type": "markdown",
   "metadata": {},
   "source": []
  }
 ],
 "metadata": {
  "kernelspec": {
   "display_name": "Python 3",
   "language": "python",
   "name": "python3"
  },
  "language_info": {
   "codemirror_mode": {
    "name": "ipython",
    "version": 3
   },
   "file_extension": ".py",
   "mimetype": "text/x-python",
   "name": "python",
   "nbconvert_exporter": "python",
   "pygments_lexer": "ipython3",
   "version": "3.8.6"
  }
 },
 "nbformat": 4,
 "nbformat_minor": 4
}
