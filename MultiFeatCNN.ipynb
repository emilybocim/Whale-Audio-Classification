{
 "cells": [
  {
   "cell_type": "markdown",
   "metadata": {},
   "source": [
    "# Imports"
   ]
  },
  {
   "cell_type": "code",
   "execution_count": 1,
   "metadata": {},
   "outputs": [],
   "source": [
    "import pandas as pd\n",
    "import numpy as np\n",
    "\n",
    "import librosa\n",
    "import librosa.display\n",
    "\n",
    "import matplotlib.pyplot as plt\n",
    "\n",
    "from tqdm import tqdm"
   ]
  },
  {
   "cell_type": "markdown",
   "metadata": {},
   "source": [
    "# Load Feature File"
   ]
  },
  {
   "cell_type": "code",
   "execution_count": 2,
   "metadata": {},
   "outputs": [],
   "source": [
    "df = pd.read_pickle('features.csv')"
   ]
  },
  {
   "cell_type": "code",
   "execution_count": 3,
   "metadata": {},
   "outputs": [
    {
     "data": {
      "text/html": [
       "<div>\n",
       "<style scoped>\n",
       "    .dataframe tbody tr th:only-of-type {\n",
       "        vertical-align: middle;\n",
       "    }\n",
       "\n",
       "    .dataframe tbody tr th {\n",
       "        vertical-align: top;\n",
       "    }\n",
       "\n",
       "    .dataframe thead th {\n",
       "        text-align: right;\n",
       "    }\n",
       "</style>\n",
       "<table border=\"1\" class=\"dataframe\">\n",
       "  <thead>\n",
       "    <tr style=\"text-align: right;\">\n",
       "      <th></th>\n",
       "      <th>file</th>\n",
       "      <th>label</th>\n",
       "      <th>mel_spec</th>\n",
       "      <th>chroma</th>\n",
       "      <th>mfcc</th>\n",
       "    </tr>\n",
       "  </thead>\n",
       "  <tbody>\n",
       "    <tr>\n",
       "      <th>0</th>\n",
       "      <td>data/train/train1.aiff</td>\n",
       "      <td>0</td>\n",
       "      <td>[[-23.034714, -21.979626, -21.229372, -24.6853...</td>\n",
       "      <td>[[0.31054255, 0.492938, 0.4222786, 0.2000359, ...</td>\n",
       "      <td>[[-583.5913, -585.6181, -586.71844, -586.3785,...</td>\n",
       "    </tr>\n",
       "    <tr>\n",
       "      <th>1</th>\n",
       "      <td>data/train/train2.aiff</td>\n",
       "      <td>0</td>\n",
       "      <td>[[-39.132935, -43.144306, -44.267673, -40.4978...</td>\n",
       "      <td>[[0.77240217, 0.4858926, 0.57792246, 0.6777284...</td>\n",
       "      <td>[[-551.0518, -595.86365, -686.11633, -690.5628...</td>\n",
       "    </tr>\n",
       "    <tr>\n",
       "      <th>2</th>\n",
       "      <td>data/train/train3.aiff</td>\n",
       "      <td>0</td>\n",
       "      <td>[[-29.182926, -34.866005, -49.983154, -50.7379...</td>\n",
       "      <td>[[0.34971952, 0.612205, 0.78210807, 1.0, 0.630...</td>\n",
       "      <td>[[-580.9305, -609.74207, -674.57465, -674.7717...</td>\n",
       "    </tr>\n",
       "    <tr>\n",
       "      <th>3</th>\n",
       "      <td>data/train/train4.aiff</td>\n",
       "      <td>0</td>\n",
       "      <td>[[-38.25903, -41.157684, -50.174606, -53.21215...</td>\n",
       "      <td>[[0.9187672, 1.0, 0.65901333, 1.0, 1.0, 0.5160...</td>\n",
       "      <td>[[-655.11835, -657.95215, -661.39966, -655.009...</td>\n",
       "    </tr>\n",
       "    <tr>\n",
       "      <th>4</th>\n",
       "      <td>data/train/train5.aiff</td>\n",
       "      <td>0</td>\n",
       "      <td>[[-29.123068, -35.563293, -50.79712, -52.36865...</td>\n",
       "      <td>[[0.9564307, 0.88239145, 1.0, 1.0, 0.52427757,...</td>\n",
       "      <td>[[-556.8616, -578.51294, -618.99274, -616.5934...</td>\n",
       "    </tr>\n",
       "  </tbody>\n",
       "</table>\n",
       "</div>"
      ],
      "text/plain": [
       "                     file  label  \\\n",
       "0  data/train/train1.aiff      0   \n",
       "1  data/train/train2.aiff      0   \n",
       "2  data/train/train3.aiff      0   \n",
       "3  data/train/train4.aiff      0   \n",
       "4  data/train/train5.aiff      0   \n",
       "\n",
       "                                            mel_spec  \\\n",
       "0  [[-23.034714, -21.979626, -21.229372, -24.6853...   \n",
       "1  [[-39.132935, -43.144306, -44.267673, -40.4978...   \n",
       "2  [[-29.182926, -34.866005, -49.983154, -50.7379...   \n",
       "3  [[-38.25903, -41.157684, -50.174606, -53.21215...   \n",
       "4  [[-29.123068, -35.563293, -50.79712, -52.36865...   \n",
       "\n",
       "                                              chroma  \\\n",
       "0  [[0.31054255, 0.492938, 0.4222786, 0.2000359, ...   \n",
       "1  [[0.77240217, 0.4858926, 0.57792246, 0.6777284...   \n",
       "2  [[0.34971952, 0.612205, 0.78210807, 1.0, 0.630...   \n",
       "3  [[0.9187672, 1.0, 0.65901333, 1.0, 1.0, 0.5160...   \n",
       "4  [[0.9564307, 0.88239145, 1.0, 1.0, 0.52427757,...   \n",
       "\n",
       "                                                mfcc  \n",
       "0  [[-583.5913, -585.6181, -586.71844, -586.3785,...  \n",
       "1  [[-551.0518, -595.86365, -686.11633, -690.5628...  \n",
       "2  [[-580.9305, -609.74207, -674.57465, -674.7717...  \n",
       "3  [[-655.11835, -657.95215, -661.39966, -655.009...  \n",
       "4  [[-556.8616, -578.51294, -618.99274, -616.5934...  "
      ]
     },
     "execution_count": 3,
     "metadata": {},
     "output_type": "execute_result"
    }
   ],
   "source": [
    "df.head()"
   ]
  },
  {
   "cell_type": "markdown",
   "metadata": {},
   "source": [
    "# Define Features and Target"
   ]
  },
  {
   "cell_type": "code",
   "execution_count": 5,
   "metadata": {},
   "outputs": [],
   "source": [
    "X = df[['mel_spec','chroma','mfcc']]\n",
    "y = df['label']"
   ]
  },
  {
   "cell_type": "markdown",
   "metadata": {},
   "source": [
    "# Split Data"
   ]
  },
  {
   "cell_type": "code",
   "execution_count": 6,
   "metadata": {},
   "outputs": [],
   "source": [
    "from sklearn.model_selection import train_test_split"
   ]
  },
  {
   "cell_type": "code",
   "execution_count": 7,
   "metadata": {},
   "outputs": [],
   "source": [
    "x_train, x_test, y_train, y_test = train_test_split(X, y, test_size=0.2, random_state = 42)"
   ]
  },
  {
   "cell_type": "code",
   "execution_count": 10,
   "metadata": {},
   "outputs": [],
   "source": [
    "ms_train = x_train['mel_spec']\n",
    "ch_train = x_train['chroma']\n",
    "mf_train = x_train['mfcc']\n",
    "\n",
    "ms_test = x_test['mel_spec']\n",
    "ch_test = x_test['chroma']\n",
    "mf_test = x_test['mfcc']"
   ]
  },
  {
   "cell_type": "markdown",
   "metadata": {},
   "source": [
    "# Convert Data"
   ]
  },
  {
   "cell_type": "code",
   "execution_count": 11,
   "metadata": {},
   "outputs": [],
   "source": [
    "from sklearn.preprocessing import LabelEncoder\n",
    "from tensorflow.keras.utils import to_categorical"
   ]
  },
  {
   "cell_type": "code",
   "execution_count": 12,
   "metadata": {},
   "outputs": [],
   "source": [
    "le = LabelEncoder()\n",
    "y_test = to_categorical(le.fit_transform(y_test)) \n",
    "y_train = to_categorical(le.fit_transform(y_train)) "
   ]
  },
  {
   "cell_type": "code",
   "execution_count": 13,
   "metadata": {},
   "outputs": [],
   "source": [
    "ms_train = np.array(ms_train.tolist())\n",
    "ch_train = np.array(ch_train.tolist())\n",
    "mf_train = np.array(mf_train.tolist())\n",
    "\n",
    "ms_test = np.array(ms_test.tolist())\n",
    "ch_test = np.array(ch_test.tolist())\n",
    "mf_test = np.array(mf_test.tolist())\n",
    "\n",
    "y_train = np.array(y_train.tolist())\n",
    "y_test = np.array(y_test.tolist())"
   ]
  },
  {
   "cell_type": "code",
   "execution_count": 14,
   "metadata": {},
   "outputs": [],
   "source": [
    "num_labels = 2\n",
    "filter_size = 2"
   ]
  },
  {
   "cell_type": "markdown",
   "metadata": {},
   "source": [
    "# Model"
   ]
  },
  {
   "cell_type": "markdown",
   "metadata": {},
   "source": [
    "### Model Imports"
   ]
  },
  {
   "cell_type": "code",
   "execution_count": 15,
   "metadata": {},
   "outputs": [],
   "source": [
    "from tensorflow.keras.models import Sequential, Model\n",
    "from tensorflow.keras.layers import Dense, Dropout, Activation, Flatten, concatenate, Input\n",
    "from tensorflow.keras.layers import Convolution2D, Conv2D, MaxPooling2D, GlobalAveragePooling2D\n",
    "from tensorflow.keras.optimizers import Adam\n",
    "from sklearn import metrics "
   ]
  },
  {
   "cell_type": "code",
   "execution_count": 22,
   "metadata": {},
   "outputs": [
    {
     "data": {
      "text/plain": [
       "(24000, 87, 128, 1)"
      ]
     },
     "execution_count": 22,
     "metadata": {},
     "output_type": "execute_result"
    }
   ],
   "source": [
    "ms_train.shape"
   ]
  },
  {
   "cell_type": "code",
   "execution_count": 23,
   "metadata": {},
   "outputs": [
    {
     "data": {
      "text/plain": [
       "(24000, 87, 12, 1)"
      ]
     },
     "execution_count": 23,
     "metadata": {},
     "output_type": "execute_result"
    }
   ],
   "source": [
    "ch_train.shape"
   ]
  },
  {
   "cell_type": "code",
   "execution_count": 17,
   "metadata": {},
   "outputs": [
    {
     "data": {
      "text/plain": [
       "(24000, 20, 87)"
      ]
     },
     "execution_count": 17,
     "metadata": {},
     "output_type": "execute_result"
    }
   ],
   "source": [
    "mf_train.shape"
   ]
  },
  {
   "cell_type": "code",
   "execution_count": 19,
   "metadata": {},
   "outputs": [],
   "source": [
    "num_rows = 87\n",
    "\n",
    "num_columns_ms = 128\n",
    "num_columns_ch = 12\n",
    "num_columns_mf = 20\n",
    "\n",
    "num_channels = 1"
   ]
  },
  {
   "cell_type": "code",
   "execution_count": 20,
   "metadata": {},
   "outputs": [],
   "source": [
    "ms_train = ms_train.reshape(ms_train.shape[0], num_rows, num_columns_ms, num_channels)\n",
    "ms_test = ms_test.reshape(ms_test.shape[0], num_rows, num_columns_ms, num_channels)\n",
    "\n",
    "ch_train = ch_train.reshape(ch_train.shape[0], num_rows, num_columns_ch, num_channels)\n",
    "ch_test = ch_test.reshape(ch_test.shape[0], num_rows, num_columns_ch, num_channels)\n",
    "\n",
    "mf_train = mf_train.reshape(mf_train.shape[0], num_rows, num_columns_mf, num_channels)\n",
    "mf_test = mf_test.reshape(mf_test.shape[0], num_rows, num_columns_mf, num_channels)"
   ]
  },
  {
   "cell_type": "code",
   "execution_count": 26,
   "metadata": {},
   "outputs": [],
   "source": [
    "# Construct model with Mel Spectrograms \n",
    "ms = Sequential()\n",
    "ms.add(Conv2D(filters=16, kernel_size=2, input_shape=(num_rows, num_columns_ms, num_channels), activation='relu'))\n",
    "ms.add(MaxPooling2D(pool_size=2))\n",
    "ms.add(Dropout(0.2))\n",
    "\n",
    "ms.add(Conv2D(filters=32, kernel_size=2, activation='relu'))\n",
    "ms.add(MaxPooling2D(pool_size=2))\n",
    "ms.add(Dropout(0.2))\n",
    "\n",
    "ms.add(Conv2D(filters=64, kernel_size=2, activation='relu'))\n",
    "ms.add(MaxPooling2D(pool_size=2))\n",
    "ms.add(Dropout(0.2))\n",
    "\n",
    "ms.add(Conv2D(filters=128, kernel_size=2, activation='relu'))\n",
    "ms.add(MaxPooling2D(pool_size=2))\n",
    "ms.add(Dropout(0.2))\n",
    "ms.add(GlobalAveragePooling2D())\n",
    "\n",
    "# Construct model with Chroma Feature \n",
    "ch = Sequential()\n",
    "ch.add(Conv2D(filters=16, kernel_size=2, input_shape=(num_rows, num_columns_ch, num_channels), activation='relu'))\n",
    "ch.add(MaxPooling2D(pool_size=1))\n",
    "ch.add(Dropout(0.2))\n",
    "\n",
    "ch.add(Conv2D(filters=32, kernel_size=2, activation='relu'))\n",
    "ch.add(MaxPooling2D(pool_size=1))\n",
    "ch.add(Dropout(0.2))\n",
    "\n",
    "ch.add(Conv2D(filters=64, kernel_size=2, activation='relu'))\n",
    "ch.add(MaxPooling2D(pool_size=1))\n",
    "ch.add(Dropout(0.2))\n",
    "\n",
    "ch.add(Conv2D(filters=128, kernel_size=2, activation='relu'))\n",
    "ch.add(MaxPooling2D(pool_size=1))\n",
    "ch.add(Dropout(0.2))\n",
    "ch.add(GlobalAveragePooling2D())\n",
    "\n",
    "#Merge Outputs\n",
    "\n",
    "model_concat = concatenate([ms.output, ch.output])\n",
    "\n",
    "model_concat = Dense(num_labels, activation='softmax')(model_concat)\n",
    "\n",
    "model = Model(inputs=[ms.input, ch.input], outputs=model_concat)"
   ]
  },
  {
   "cell_type": "code",
   "execution_count": 27,
   "metadata": {},
   "outputs": [
    {
     "name": "stdout",
     "output_type": "stream",
     "text": [
      "Model: \"model\"\n",
      "__________________________________________________________________________________________________\n",
      "Layer (type)                    Output Shape         Param #     Connected to                     \n",
      "==================================================================================================\n",
      "conv2d_8_input (InputLayer)     [(None, 87, 128, 1)] 0                                            \n",
      "__________________________________________________________________________________________________\n",
      "conv2d_12_input (InputLayer)    [(None, 87, 12, 1)]  0                                            \n",
      "__________________________________________________________________________________________________\n",
      "conv2d_8 (Conv2D)               (None, 86, 127, 16)  80          conv2d_8_input[0][0]             \n",
      "__________________________________________________________________________________________________\n",
      "conv2d_12 (Conv2D)              (None, 86, 11, 16)   80          conv2d_12_input[0][0]            \n",
      "__________________________________________________________________________________________________\n",
      "max_pooling2d_8 (MaxPooling2D)  (None, 43, 63, 16)   0           conv2d_8[0][0]                   \n",
      "__________________________________________________________________________________________________\n",
      "max_pooling2d_12 (MaxPooling2D) (None, 86, 11, 16)   0           conv2d_12[0][0]                  \n",
      "__________________________________________________________________________________________________\n",
      "dropout_8 (Dropout)             (None, 43, 63, 16)   0           max_pooling2d_8[0][0]            \n",
      "__________________________________________________________________________________________________\n",
      "dropout_12 (Dropout)            (None, 86, 11, 16)   0           max_pooling2d_12[0][0]           \n",
      "__________________________________________________________________________________________________\n",
      "conv2d_9 (Conv2D)               (None, 42, 62, 32)   2080        dropout_8[0][0]                  \n",
      "__________________________________________________________________________________________________\n",
      "conv2d_13 (Conv2D)              (None, 85, 10, 32)   2080        dropout_12[0][0]                 \n",
      "__________________________________________________________________________________________________\n",
      "max_pooling2d_9 (MaxPooling2D)  (None, 21, 31, 32)   0           conv2d_9[0][0]                   \n",
      "__________________________________________________________________________________________________\n",
      "max_pooling2d_13 (MaxPooling2D) (None, 85, 10, 32)   0           conv2d_13[0][0]                  \n",
      "__________________________________________________________________________________________________\n",
      "dropout_9 (Dropout)             (None, 21, 31, 32)   0           max_pooling2d_9[0][0]            \n",
      "__________________________________________________________________________________________________\n",
      "dropout_13 (Dropout)            (None, 85, 10, 32)   0           max_pooling2d_13[0][0]           \n",
      "__________________________________________________________________________________________________\n",
      "conv2d_10 (Conv2D)              (None, 20, 30, 64)   8256        dropout_9[0][0]                  \n",
      "__________________________________________________________________________________________________\n",
      "conv2d_14 (Conv2D)              (None, 84, 9, 64)    8256        dropout_13[0][0]                 \n",
      "__________________________________________________________________________________________________\n",
      "max_pooling2d_10 (MaxPooling2D) (None, 10, 15, 64)   0           conv2d_10[0][0]                  \n",
      "__________________________________________________________________________________________________\n",
      "max_pooling2d_14 (MaxPooling2D) (None, 84, 9, 64)    0           conv2d_14[0][0]                  \n",
      "__________________________________________________________________________________________________\n",
      "dropout_10 (Dropout)            (None, 10, 15, 64)   0           max_pooling2d_10[0][0]           \n",
      "__________________________________________________________________________________________________\n",
      "dropout_14 (Dropout)            (None, 84, 9, 64)    0           max_pooling2d_14[0][0]           \n",
      "__________________________________________________________________________________________________\n",
      "conv2d_11 (Conv2D)              (None, 9, 14, 128)   32896       dropout_10[0][0]                 \n",
      "__________________________________________________________________________________________________\n",
      "conv2d_15 (Conv2D)              (None, 83, 8, 128)   32896       dropout_14[0][0]                 \n",
      "__________________________________________________________________________________________________\n",
      "max_pooling2d_11 (MaxPooling2D) (None, 4, 7, 128)    0           conv2d_11[0][0]                  \n",
      "__________________________________________________________________________________________________\n",
      "max_pooling2d_15 (MaxPooling2D) (None, 83, 8, 128)   0           conv2d_15[0][0]                  \n",
      "__________________________________________________________________________________________________\n",
      "dropout_11 (Dropout)            (None, 4, 7, 128)    0           max_pooling2d_11[0][0]           \n",
      "__________________________________________________________________________________________________\n",
      "dropout_15 (Dropout)            (None, 83, 8, 128)   0           max_pooling2d_15[0][0]           \n",
      "__________________________________________________________________________________________________\n",
      "global_average_pooling2d_2 (Glo (None, 128)          0           dropout_11[0][0]                 \n",
      "__________________________________________________________________________________________________\n",
      "global_average_pooling2d_3 (Glo (None, 128)          0           dropout_15[0][0]                 \n",
      "__________________________________________________________________________________________________\n",
      "concatenate_1 (Concatenate)     (None, 256)          0           global_average_pooling2d_2[0][0] \n",
      "                                                                 global_average_pooling2d_3[0][0] \n",
      "__________________________________________________________________________________________________\n",
      "dense (Dense)                   (None, 2)            514         concatenate_1[0][0]              \n",
      "==================================================================================================\n",
      "Total params: 87,138\n",
      "Trainable params: 87,138\n",
      "Non-trainable params: 0\n",
      "__________________________________________________________________________________________________\n",
      "188/188 [==============================] - 6s 30ms/step - loss: 7.6914 - accuracy: 0.2268\n",
      "Pre-training accuracy: 22.6833%\n"
     ]
    }
   ],
   "source": [
    "# Compile the model\n",
    "model.compile(loss='categorical_crossentropy', metrics=['accuracy'], optimizer='adam')\n",
    "\n",
    "# Display model architecture summary \n",
    "model.summary()\n",
    "\n",
    "# Calculate pre-training accuracy \n",
    "score = model.evaluate([ms_test, ch_test], y_test, verbose=1)\n",
    "accuracy = 100*score[1]\n",
    "\n",
    "print(\"Pre-training accuracy: %.4f%%\" % accuracy) "
   ]
  },
  {
   "cell_type": "code",
   "execution_count": 23,
   "metadata": {},
   "outputs": [],
   "source": [
    "from tensorflow.keras.callbacks import ModelCheckpoint \n",
    "from datetime import datetime\n",
    "\n",
    "checkpointer = ModelCheckpoint(filepath='saved_models/weights.best.basic_cnn.hdf5', \n",
    "                               verbose=1, save_best_only=True)\n",
    "\n",
    "# Define early_stopping_monitor\n",
    "from tensorflow.keras.callbacks import EarlyStopping\n",
    "early_stopping_monitor = EarlyStopping(patience=10)\n",
    "\n",
    "my_callbacks = [early_stopping_monitor, checkpointer]"
   ]
  },
  {
   "cell_type": "code",
   "execution_count": 30,
   "metadata": {},
   "outputs": [
    {
     "name": "stdout",
     "output_type": "stream",
     "text": [
      "Epoch 1/1000\n",
      "2400/2400 [==============================] - 107s 44ms/step - loss: 0.4185 - accuracy: 0.7842 - val_loss: 0.3663 - val_accuracy: 0.8353\n",
      "\n",
      "Epoch 00001: val_loss improved from 0.45080 to 0.36629, saving model to saved_models/weights.best.basic_cnn.hdf5\n",
      "Epoch 2/1000\n",
      "2400/2400 [==============================] - 106s 44ms/step - loss: 0.3602 - accuracy: 0.8315 - val_loss: 0.3190 - val_accuracy: 0.8638\n",
      "\n",
      "Epoch 00002: val_loss improved from 0.36629 to 0.31897, saving model to saved_models/weights.best.basic_cnn.hdf5\n",
      "Epoch 3/1000\n",
      "2400/2400 [==============================] - 105s 44ms/step - loss: 0.3362 - accuracy: 0.8485 - val_loss: 0.3494 - val_accuracy: 0.8287\n",
      "\n",
      "Epoch 00003: val_loss did not improve from 0.31897\n",
      "Epoch 4/1000\n",
      "2400/2400 [==============================] - 105s 44ms/step - loss: 0.3213 - accuracy: 0.8580 - val_loss: 0.3247 - val_accuracy: 0.8538\n",
      "\n",
      "Epoch 00004: val_loss did not improve from 0.31897\n",
      "Epoch 5/1000\n",
      "2400/2400 [==============================] - 105s 44ms/step - loss: 0.3126 - accuracy: 0.8602 - val_loss: 0.3199 - val_accuracy: 0.8500\n",
      "\n",
      "Epoch 00005: val_loss did not improve from 0.31897\n",
      "Epoch 6/1000\n",
      "2400/2400 [==============================] - 105s 44ms/step - loss: 0.3067 - accuracy: 0.8665 - val_loss: 0.2991 - val_accuracy: 0.8708\n",
      "\n",
      "Epoch 00006: val_loss improved from 0.31897 to 0.29913, saving model to saved_models/weights.best.basic_cnn.hdf5\n",
      "Epoch 7/1000\n",
      "2400/2400 [==============================] - 106s 44ms/step - loss: 0.3025 - accuracy: 0.8679 - val_loss: 0.2805 - val_accuracy: 0.8755\n",
      "\n",
      "Epoch 00007: val_loss improved from 0.29913 to 0.28051, saving model to saved_models/weights.best.basic_cnn.hdf5\n",
      "Epoch 8/1000\n",
      "2400/2400 [==============================] - 105s 44ms/step - loss: 0.2973 - accuracy: 0.8714 - val_loss: 0.2756 - val_accuracy: 0.8813\n",
      "\n",
      "Epoch 00008: val_loss improved from 0.28051 to 0.27558, saving model to saved_models/weights.best.basic_cnn.hdf5\n",
      "Epoch 9/1000\n",
      "2400/2400 [==============================] - 105s 44ms/step - loss: 0.2938 - accuracy: 0.8733 - val_loss: 0.2828 - val_accuracy: 0.8857\n",
      "\n",
      "Epoch 00009: val_loss did not improve from 0.27558\n",
      "Epoch 10/1000\n",
      "2400/2400 [==============================] - 106s 44ms/step - loss: 0.2880 - accuracy: 0.8744 - val_loss: 0.2697 - val_accuracy: 0.8810\n",
      "\n",
      "Epoch 00010: val_loss improved from 0.27558 to 0.26966, saving model to saved_models/weights.best.basic_cnn.hdf5\n",
      "Epoch 11/1000\n",
      "2400/2400 [==============================] - 106s 44ms/step - loss: 0.2845 - accuracy: 0.8768 - val_loss: 0.2703 - val_accuracy: 0.8893\n",
      "\n",
      "Epoch 00011: val_loss did not improve from 0.26966\n",
      "Epoch 12/1000\n",
      "2400/2400 [==============================] - 101s 42ms/step - loss: 0.2790 - accuracy: 0.8792 - val_loss: 0.2570 - val_accuracy: 0.8955\n",
      "\n",
      "Epoch 00012: val_loss improved from 0.26966 to 0.25702, saving model to saved_models/weights.best.basic_cnn.hdf5\n",
      "Epoch 13/1000\n",
      "2400/2400 [==============================] - 101s 42ms/step - loss: 0.2755 - accuracy: 0.8822 - val_loss: 0.2793 - val_accuracy: 0.8778\n",
      "\n",
      "Epoch 00013: val_loss did not improve from 0.25702\n",
      "Epoch 14/1000\n",
      "2400/2400 [==============================] - 104s 43ms/step - loss: 0.2715 - accuracy: 0.8826 - val_loss: 0.2660 - val_accuracy: 0.8885\n",
      "\n",
      "Epoch 00014: val_loss did not improve from 0.25702\n",
      "Epoch 15/1000\n",
      "2400/2400 [==============================] - 105s 44ms/step - loss: 0.2708 - accuracy: 0.8864 - val_loss: 0.2447 - val_accuracy: 0.8953\n",
      "\n",
      "Epoch 00015: val_loss improved from 0.25702 to 0.24469, saving model to saved_models/weights.best.basic_cnn.hdf5\n",
      "Epoch 16/1000\n",
      "2400/2400 [==============================] - 105s 44ms/step - loss: 0.2701 - accuracy: 0.8852 - val_loss: 0.2778 - val_accuracy: 0.8832\n",
      "\n",
      "Epoch 00016: val_loss did not improve from 0.24469\n",
      "Epoch 17/1000\n",
      "2400/2400 [==============================] - 104s 43ms/step - loss: 0.2652 - accuracy: 0.8851 - val_loss: 0.2897 - val_accuracy: 0.8628\n",
      "\n",
      "Epoch 00017: val_loss did not improve from 0.24469\n",
      "Epoch 18/1000\n",
      "2400/2400 [==============================] - 104s 43ms/step - loss: 0.2659 - accuracy: 0.8869 - val_loss: 0.2521 - val_accuracy: 0.8953\n",
      "\n",
      "Epoch 00018: val_loss did not improve from 0.24469\n",
      "Epoch 19/1000\n",
      "2400/2400 [==============================] - 101s 42ms/step - loss: 0.2632 - accuracy: 0.8881 - val_loss: 0.2497 - val_accuracy: 0.8898\n",
      "\n",
      "Epoch 00019: val_loss did not improve from 0.24469\n",
      "Epoch 20/1000\n",
      "2400/2400 [==============================] - 102s 42ms/step - loss: 0.2639 - accuracy: 0.8853 - val_loss: 0.2587 - val_accuracy: 0.8908\n",
      "\n",
      "Epoch 00020: val_loss did not improve from 0.24469\n",
      "Epoch 21/1000\n",
      "2400/2400 [==============================] - 104s 43ms/step - loss: 0.2639 - accuracy: 0.8879 - val_loss: 0.2665 - val_accuracy: 0.8813\n",
      "\n",
      "Epoch 00021: val_loss did not improve from 0.24469\n",
      "Epoch 22/1000\n",
      "2400/2400 [==============================] - 104s 43ms/step - loss: 0.2605 - accuracy: 0.8873 - val_loss: 0.2616 - val_accuracy: 0.8810\n",
      "\n",
      "Epoch 00022: val_loss did not improve from 0.24469\n",
      "Epoch 23/1000\n",
      "2400/2400 [==============================] - 104s 43ms/step - loss: 0.2612 - accuracy: 0.8889 - val_loss: 0.2673 - val_accuracy: 0.8753\n",
      "\n",
      "Epoch 00023: val_loss did not improve from 0.24469\n",
      "Epoch 24/1000\n",
      "2400/2400 [==============================] - 104s 43ms/step - loss: 0.2611 - accuracy: 0.8873 - val_loss: 0.2417 - val_accuracy: 0.8978\n",
      "\n",
      "Epoch 00024: val_loss improved from 0.24469 to 0.24174, saving model to saved_models/weights.best.basic_cnn.hdf5\n",
      "Epoch 25/1000\n",
      "2400/2400 [==============================] - 104s 43ms/step - loss: 0.2552 - accuracy: 0.8913 - val_loss: 0.2551 - val_accuracy: 0.8922\n",
      "\n",
      "Epoch 00025: val_loss did not improve from 0.24174\n",
      "Epoch 26/1000\n",
      "2400/2400 [==============================] - 104s 43ms/step - loss: 0.2550 - accuracy: 0.8907 - val_loss: 0.2465 - val_accuracy: 0.8925\n",
      "\n",
      "Epoch 00026: val_loss did not improve from 0.24174\n",
      "Epoch 27/1000\n",
      "2400/2400 [==============================] - 104s 44ms/step - loss: 0.2562 - accuracy: 0.8905 - val_loss: 0.2360 - val_accuracy: 0.9055\n",
      "\n",
      "Epoch 00027: val_loss improved from 0.24174 to 0.23596, saving model to saved_models/weights.best.basic_cnn.hdf5\n",
      "Epoch 28/1000\n",
      "2400/2400 [==============================] - 104s 43ms/step - loss: 0.2557 - accuracy: 0.8916 - val_loss: 0.2540 - val_accuracy: 0.8853\n",
      "\n",
      "Epoch 00028: val_loss did not improve from 0.23596\n",
      "Epoch 29/1000\n",
      "2400/2400 [==============================] - 104s 43ms/step - loss: 0.2549 - accuracy: 0.8903 - val_loss: 0.2380 - val_accuracy: 0.9012\n",
      "\n",
      "Epoch 00029: val_loss did not improve from 0.23596\n",
      "Epoch 30/1000\n",
      "2400/2400 [==============================] - 105s 44ms/step - loss: 0.2555 - accuracy: 0.8889 - val_loss: 0.2366 - val_accuracy: 0.9067\n",
      "\n",
      "Epoch 00030: val_loss did not improve from 0.23596\n",
      "Epoch 31/1000\n",
      "2400/2400 [==============================] - 105s 44ms/step - loss: 0.2533 - accuracy: 0.8909 - val_loss: 0.3087 - val_accuracy: 0.8420\n",
      "\n",
      "Epoch 00031: val_loss did not improve from 0.23596\n",
      "Epoch 32/1000\n",
      "2400/2400 [==============================] - 105s 44ms/step - loss: 0.2533 - accuracy: 0.8903 - val_loss: 0.2351 - val_accuracy: 0.9017\n",
      "\n",
      "Epoch 00032: val_loss improved from 0.23596 to 0.23509, saving model to saved_models/weights.best.basic_cnn.hdf5\n",
      "Epoch 33/1000\n",
      "2400/2400 [==============================] - 103s 43ms/step - loss: 0.2519 - accuracy: 0.8910 - val_loss: 0.2487 - val_accuracy: 0.8972\n",
      "\n",
      "Epoch 00033: val_loss did not improve from 0.23509\n",
      "Epoch 34/1000\n",
      "2400/2400 [==============================] - 104s 43ms/step - loss: 0.2528 - accuracy: 0.8892 - val_loss: 0.2385 - val_accuracy: 0.9005\n",
      "\n",
      "Epoch 00034: val_loss did not improve from 0.23509\n",
      "Epoch 35/1000\n",
      "2400/2400 [==============================] - 105s 44ms/step - loss: 0.2496 - accuracy: 0.8935 - val_loss: 0.2391 - val_accuracy: 0.9023\n",
      "\n",
      "Epoch 00035: val_loss did not improve from 0.23509\n",
      "Epoch 36/1000\n",
      "2400/2400 [==============================] - 104s 43ms/step - loss: 0.2500 - accuracy: 0.8920 - val_loss: 0.2432 - val_accuracy: 0.8928\n",
      "\n",
      "Epoch 00036: val_loss did not improve from 0.23509\n",
      "Epoch 37/1000\n",
      "2400/2400 [==============================] - 104s 43ms/step - loss: 0.2475 - accuracy: 0.8935 - val_loss: 0.2346 - val_accuracy: 0.9030\n",
      "\n",
      "Epoch 00037: val_loss improved from 0.23509 to 0.23461, saving model to saved_models/weights.best.basic_cnn.hdf5\n",
      "Epoch 38/1000\n",
      "2400/2400 [==============================] - 103s 43ms/step - loss: 0.2479 - accuracy: 0.8936 - val_loss: 0.2831 - val_accuracy: 0.8647\n",
      "\n",
      "Epoch 00038: val_loss did not improve from 0.23461\n",
      "Epoch 39/1000\n",
      "2400/2400 [==============================] - 101s 42ms/step - loss: 0.2524 - accuracy: 0.8912 - val_loss: 0.2389 - val_accuracy: 0.8993\n",
      "\n",
      "Epoch 00039: val_loss did not improve from 0.23461\n",
      "Epoch 40/1000\n",
      "2400/2400 [==============================] - 100s 42ms/step - loss: 0.2475 - accuracy: 0.8913 - val_loss: 0.2445 - val_accuracy: 0.9003\n",
      "\n",
      "Epoch 00040: val_loss did not improve from 0.23461\n",
      "Epoch 41/1000\n",
      "2400/2400 [==============================] - 98s 41ms/step - loss: 0.2482 - accuracy: 0.8932 - val_loss: 0.2457 - val_accuracy: 0.8890\n",
      "\n",
      "Epoch 00041: val_loss did not improve from 0.23461\n",
      "Epoch 42/1000\n",
      "2400/2400 [==============================] - 98s 41ms/step - loss: 0.2451 - accuracy: 0.8955 - val_loss: 0.2711 - val_accuracy: 0.8718\n",
      "\n",
      "Epoch 00042: val_loss did not improve from 0.23461\n",
      "Epoch 43/1000\n",
      "2400/2400 [==============================] - 99s 41ms/step - loss: 0.2479 - accuracy: 0.8916 - val_loss: 0.2460 - val_accuracy: 0.8997\n",
      "\n",
      "Epoch 00043: val_loss did not improve from 0.23461\n",
      "Epoch 44/1000\n",
      "2400/2400 [==============================] - 98s 41ms/step - loss: 0.2488 - accuracy: 0.8934 - val_loss: 0.2352 - val_accuracy: 0.9018\n",
      "\n",
      "Epoch 00044: val_loss did not improve from 0.23461\n",
      "Epoch 45/1000\n",
      "2400/2400 [==============================] - 98s 41ms/step - loss: 0.2474 - accuracy: 0.8920 - val_loss: 0.2539 - val_accuracy: 0.8882\n",
      "\n",
      "Epoch 00045: val_loss did not improve from 0.23461\n",
      "Epoch 46/1000\n",
      "2400/2400 [==============================] - 98s 41ms/step - loss: 0.2456 - accuracy: 0.8938 - val_loss: 0.2409 - val_accuracy: 0.8945\n",
      "\n",
      "Epoch 00046: val_loss did not improve from 0.23461\n",
      "Epoch 47/1000\n",
      "2400/2400 [==============================] - 98s 41ms/step - loss: 0.2459 - accuracy: 0.8930 - val_loss: 0.2536 - val_accuracy: 0.8858\n",
      "\n",
      "Epoch 00047: val_loss did not improve from 0.23461\n",
      "Training completed in time:  1:20:52.485953\n"
     ]
    }
   ],
   "source": [
    "from datetime import datetime \n",
    "\n",
    "num_epochs = 1000\n",
    "num_batch_size = 10\n",
    "\n",
    "start = datetime.now()\n",
    "\n",
    "model.fit([ms_train, ch_train], y_train, \n",
    "          batch_size=num_batch_size, \n",
    "          epochs=num_epochs, \n",
    "          validation_data=([ms_test, ch_test], y_test), \n",
    "          callbacks=my_callbacks, \n",
    "          verbose=1)\n",
    "\n",
    "\n",
    "duration = datetime.now() - start\n",
    "print(\"Training completed in time: \", duration)"
   ]
  },
  {
   "cell_type": "code",
   "execution_count": 32,
   "metadata": {},
   "outputs": [
    {
     "name": "stdout",
     "output_type": "stream",
     "text": [
      "Training Accuracy:  0.8846250176429749\n",
      "Testing Accuracy:  0.8858333230018616\n"
     ]
    }
   ],
   "source": [
    "# Evaluating the model on the training and testing set\n",
    "score = model.evaluate([ms_train, ch_train], y_train, verbose=0)\n",
    "print(\"Training Accuracy: \", score[1])\n",
    "\n",
    "score = model.evaluate([ms_test,ch_test], y_test, verbose=0)\n",
    "print(\"Testing Accuracy: \", score[1])"
   ]
  },
  {
   "cell_type": "code",
   "execution_count": 33,
   "metadata": {},
   "outputs": [],
   "source": [
    "y_pred = model.predict([ms_test,ch_test])"
   ]
  },
  {
   "cell_type": "code",
   "execution_count": 43,
   "metadata": {},
   "outputs": [],
   "source": [
    "y_pred = np.argmax(y_pred, axis=1)"
   ]
  },
  {
   "cell_type": "code",
   "execution_count": 34,
   "metadata": {},
   "outputs": [],
   "source": [
    "from sklearn.metrics import confusion_matrix\n",
    "from sklearn.metrics import classification_report"
   ]
  },
  {
   "cell_type": "code",
   "execution_count": 49,
   "metadata": {},
   "outputs": [
    {
     "data": {
      "text/plain": [
       "array([0., 0., 0., ..., 1., 1., 0.])"
      ]
     },
     "execution_count": 49,
     "metadata": {},
     "output_type": "execute_result"
    }
   ],
   "source": [
    "y_test[:,1]"
   ]
  },
  {
   "cell_type": "code",
   "execution_count": 50,
   "metadata": {},
   "outputs": [
    {
     "data": {
      "text/plain": [
       "'              precision    recall  f1-score   support\\n\\n         0.0       0.88      0.98      0.93      4639\\n         1.0       0.90      0.56      0.69      1361\\n\\n    accuracy                           0.89      6000\\n   macro avg       0.89      0.77      0.81      6000\\nweighted avg       0.89      0.89      0.88      6000\\n'"
      ]
     },
     "execution_count": 50,
     "metadata": {},
     "output_type": "execute_result"
    }
   ],
   "source": [
    "classification_report(y_test[:,1], y_pred)"
   ]
  },
  {
   "cell_type": "code",
   "execution_count": 51,
   "metadata": {},
   "outputs": [
    {
     "data": {
      "text/plain": [
       "array([[4555,   84],\n",
       "       [ 601,  760]])"
      ]
     },
     "execution_count": 51,
     "metadata": {},
     "output_type": "execute_result"
    }
   ],
   "source": [
    "confusion_matrix(y_test[:,1], y_pred)"
   ]
  },
  {
   "cell_type": "code",
   "execution_count": 53,
   "metadata": {},
   "outputs": [
    {
     "name": "stdout",
     "output_type": "stream",
     "text": [
      "INFO:tensorflow:Assets written to: multicnn/assets\n"
     ]
    }
   ],
   "source": [
    "model.save('multicnn')"
   ]
  },
  {
   "cell_type": "markdown",
   "metadata": {},
   "source": [
    "# CNN with 3 Features"
   ]
  },
  {
   "cell_type": "code",
   "execution_count": 22,
   "metadata": {},
   "outputs": [],
   "source": [
    "# Construct model with Mel Spectrograms \n",
    "ms2 = Sequential()\n",
    "ms2.add(Conv2D(filters=16, kernel_size=2, input_shape=(num_rows, num_columns_ms, num_channels), activation='relu'))\n",
    "ms2.add(MaxPooling2D(pool_size=2))\n",
    "ms2.add(Dropout(0.2))\n",
    "\n",
    "ms2.add(Conv2D(filters=32, kernel_size=2, activation='relu'))\n",
    "ms2.add(MaxPooling2D(pool_size=2))\n",
    "ms2.add(Dropout(0.2))\n",
    "\n",
    "ms2.add(Conv2D(filters=64, kernel_size=2, activation='relu'))\n",
    "ms2.add(MaxPooling2D(pool_size=2))\n",
    "ms2.add(Dropout(0.2))\n",
    "\n",
    "ms2.add(Conv2D(filters=128, kernel_size=2, activation='relu'))\n",
    "ms2.add(MaxPooling2D(pool_size=2))\n",
    "ms2.add(Dropout(0.2))\n",
    "ms2.add(GlobalAveragePooling2D())\n",
    "\n",
    "# Construct model with Chroma Feature \n",
    "ch2 = Sequential()\n",
    "ch2.add(Conv2D(filters=16, kernel_size=2, input_shape=(num_rows, num_columns_ch, num_channels), activation='relu'))\n",
    "ch2.add(MaxPooling2D(pool_size=1))\n",
    "ch2.add(Dropout(0.2))\n",
    "\n",
    "ch2.add(Conv2D(filters=32, kernel_size=2, activation='relu'))\n",
    "ch2.add(MaxPooling2D(pool_size=1))\n",
    "ch2.add(Dropout(0.2))\n",
    "\n",
    "ch2.add(Conv2D(filters=64, kernel_size=2, activation='relu'))\n",
    "ch2.add(MaxPooling2D(pool_size=1))\n",
    "ch2.add(Dropout(0.2))\n",
    "\n",
    "ch2.add(Conv2D(filters=128, kernel_size=2, activation='relu'))\n",
    "ch2.add(MaxPooling2D(pool_size=1))\n",
    "ch2.add(Dropout(0.2))\n",
    "ch2.add(GlobalAveragePooling2D())\n",
    "\n",
    "#Consturct model with MFCC\n",
    "mf2 = Sequential()\n",
    "mf2.add(Conv2D(filters=16, kernel_size=2, input_shape=(num_rows, num_columns_mf, num_channels), activation='relu'))\n",
    "mf2.add(MaxPooling2D(pool_size=1))\n",
    "mf2.add(Dropout(0.2))\n",
    "\n",
    "mf2.add(Conv2D(filters=32, kernel_size=2, activation='relu'))\n",
    "mf2.add(MaxPooling2D(pool_size=1))\n",
    "mf2.add(Dropout(0.2))\n",
    "\n",
    "mf2.add(Conv2D(filters=64, kernel_size=2, activation='relu'))\n",
    "mf2.add(MaxPooling2D(pool_size=1))\n",
    "mf2.add(Dropout(0.2))\n",
    "\n",
    "mf2.add(Conv2D(filters=128, kernel_size=2, activation='relu'))\n",
    "mf2.add(MaxPooling2D(pool_size=1))\n",
    "mf2.add(Dropout(0.2))\n",
    "mf2.add(GlobalAveragePooling2D())\n",
    "\n",
    "#Merge Outputs\n",
    "\n",
    "model_concat2 = concatenate([ms2.output, ch2.output, mf2.output])\n",
    "\n",
    "model_concat2 = Dense(num_labels, activation='softmax')(model_concat2)\n",
    "\n",
    "model2 = Model(inputs=[ms2.input, ch2.input, mf2.input], outputs=model_concat2)"
   ]
  },
  {
   "cell_type": "code",
   "execution_count": 25,
   "metadata": {},
   "outputs": [
    {
     "name": "stdout",
     "output_type": "stream",
     "text": [
      "Model: \"model\"\n",
      "__________________________________________________________________________________________________\n",
      "Layer (type)                    Output Shape         Param #     Connected to                     \n",
      "==================================================================================================\n",
      "conv2d_8_input (InputLayer)     [(None, 87, 128, 1)] 0                                            \n",
      "__________________________________________________________________________________________________\n",
      "conv2d_12_input (InputLayer)    [(None, 87, 12, 1)]  0                                            \n",
      "__________________________________________________________________________________________________\n",
      "conv2d_16_input (InputLayer)    [(None, 87, 20, 1)]  0                                            \n",
      "__________________________________________________________________________________________________\n",
      "conv2d_8 (Conv2D)               (None, 86, 127, 16)  80          conv2d_8_input[0][0]             \n",
      "__________________________________________________________________________________________________\n",
      "conv2d_12 (Conv2D)              (None, 86, 11, 16)   80          conv2d_12_input[0][0]            \n",
      "__________________________________________________________________________________________________\n",
      "conv2d_16 (Conv2D)              (None, 86, 19, 16)   80          conv2d_16_input[0][0]            \n",
      "__________________________________________________________________________________________________\n",
      "max_pooling2d_8 (MaxPooling2D)  (None, 43, 63, 16)   0           conv2d_8[0][0]                   \n",
      "__________________________________________________________________________________________________\n",
      "max_pooling2d_12 (MaxPooling2D) (None, 86, 11, 16)   0           conv2d_12[0][0]                  \n",
      "__________________________________________________________________________________________________\n",
      "max_pooling2d_16 (MaxPooling2D) (None, 86, 19, 16)   0           conv2d_16[0][0]                  \n",
      "__________________________________________________________________________________________________\n",
      "dropout_8 (Dropout)             (None, 43, 63, 16)   0           max_pooling2d_8[0][0]            \n",
      "__________________________________________________________________________________________________\n",
      "dropout_12 (Dropout)            (None, 86, 11, 16)   0           max_pooling2d_12[0][0]           \n",
      "__________________________________________________________________________________________________\n",
      "dropout_16 (Dropout)            (None, 86, 19, 16)   0           max_pooling2d_16[0][0]           \n",
      "__________________________________________________________________________________________________\n",
      "conv2d_9 (Conv2D)               (None, 42, 62, 32)   2080        dropout_8[0][0]                  \n",
      "__________________________________________________________________________________________________\n",
      "conv2d_13 (Conv2D)              (None, 85, 10, 32)   2080        dropout_12[0][0]                 \n",
      "__________________________________________________________________________________________________\n",
      "conv2d_17 (Conv2D)              (None, 85, 18, 32)   2080        dropout_16[0][0]                 \n",
      "__________________________________________________________________________________________________\n",
      "max_pooling2d_9 (MaxPooling2D)  (None, 21, 31, 32)   0           conv2d_9[0][0]                   \n",
      "__________________________________________________________________________________________________\n",
      "max_pooling2d_13 (MaxPooling2D) (None, 85, 10, 32)   0           conv2d_13[0][0]                  \n",
      "__________________________________________________________________________________________________\n",
      "max_pooling2d_17 (MaxPooling2D) (None, 85, 18, 32)   0           conv2d_17[0][0]                  \n",
      "__________________________________________________________________________________________________\n",
      "dropout_9 (Dropout)             (None, 21, 31, 32)   0           max_pooling2d_9[0][0]            \n",
      "__________________________________________________________________________________________________\n",
      "dropout_13 (Dropout)            (None, 85, 10, 32)   0           max_pooling2d_13[0][0]           \n",
      "__________________________________________________________________________________________________\n",
      "dropout_17 (Dropout)            (None, 85, 18, 32)   0           max_pooling2d_17[0][0]           \n",
      "__________________________________________________________________________________________________\n",
      "conv2d_10 (Conv2D)              (None, 20, 30, 64)   8256        dropout_9[0][0]                  \n",
      "__________________________________________________________________________________________________\n",
      "conv2d_14 (Conv2D)              (None, 84, 9, 64)    8256        dropout_13[0][0]                 \n",
      "__________________________________________________________________________________________________\n",
      "conv2d_18 (Conv2D)              (None, 84, 17, 64)   8256        dropout_17[0][0]                 \n",
      "__________________________________________________________________________________________________\n",
      "max_pooling2d_10 (MaxPooling2D) (None, 10, 15, 64)   0           conv2d_10[0][0]                  \n",
      "__________________________________________________________________________________________________\n",
      "max_pooling2d_14 (MaxPooling2D) (None, 84, 9, 64)    0           conv2d_14[0][0]                  \n",
      "__________________________________________________________________________________________________\n",
      "max_pooling2d_18 (MaxPooling2D) (None, 84, 17, 64)   0           conv2d_18[0][0]                  \n",
      "__________________________________________________________________________________________________\n",
      "dropout_10 (Dropout)            (None, 10, 15, 64)   0           max_pooling2d_10[0][0]           \n",
      "__________________________________________________________________________________________________\n",
      "dropout_14 (Dropout)            (None, 84, 9, 64)    0           max_pooling2d_14[0][0]           \n",
      "__________________________________________________________________________________________________\n",
      "dropout_18 (Dropout)            (None, 84, 17, 64)   0           max_pooling2d_18[0][0]           \n",
      "__________________________________________________________________________________________________\n",
      "conv2d_11 (Conv2D)              (None, 9, 14, 128)   32896       dropout_10[0][0]                 \n",
      "__________________________________________________________________________________________________\n",
      "conv2d_15 (Conv2D)              (None, 83, 8, 128)   32896       dropout_14[0][0]                 \n",
      "__________________________________________________________________________________________________\n",
      "conv2d_19 (Conv2D)              (None, 83, 16, 128)  32896       dropout_18[0][0]                 \n",
      "__________________________________________________________________________________________________\n",
      "max_pooling2d_11 (MaxPooling2D) (None, 4, 7, 128)    0           conv2d_11[0][0]                  \n",
      "__________________________________________________________________________________________________\n",
      "max_pooling2d_15 (MaxPooling2D) (None, 83, 8, 128)   0           conv2d_15[0][0]                  \n",
      "__________________________________________________________________________________________________\n",
      "max_pooling2d_19 (MaxPooling2D) (None, 83, 16, 128)  0           conv2d_19[0][0]                  \n",
      "__________________________________________________________________________________________________\n",
      "dropout_11 (Dropout)            (None, 4, 7, 128)    0           max_pooling2d_11[0][0]           \n",
      "__________________________________________________________________________________________________\n",
      "dropout_15 (Dropout)            (None, 83, 8, 128)   0           max_pooling2d_15[0][0]           \n",
      "__________________________________________________________________________________________________\n",
      "dropout_19 (Dropout)            (None, 83, 16, 128)  0           max_pooling2d_19[0][0]           \n",
      "__________________________________________________________________________________________________\n",
      "global_average_pooling2d_2 (Glo (None, 128)          0           dropout_11[0][0]                 \n",
      "__________________________________________________________________________________________________\n",
      "global_average_pooling2d_3 (Glo (None, 128)          0           dropout_15[0][0]                 \n",
      "__________________________________________________________________________________________________\n",
      "global_average_pooling2d_4 (Glo (None, 128)          0           dropout_19[0][0]                 \n",
      "__________________________________________________________________________________________________\n",
      "concatenate (Concatenate)       (None, 384)          0           global_average_pooling2d_2[0][0] \n",
      "                                                                 global_average_pooling2d_3[0][0] \n",
      "                                                                 global_average_pooling2d_4[0][0] \n",
      "__________________________________________________________________________________________________\n",
      "dense (Dense)                   (None, 2)            770         concatenate[0][0]                \n",
      "==================================================================================================\n",
      "Total params: 130,706\n",
      "Trainable params: 130,706\n",
      "Non-trainable params: 0\n",
      "__________________________________________________________________________________________________\n",
      "188/188 [==============================] - 10s 52ms/step - loss: 3.7830 - accuracy: 0.2268\n",
      "Pre-training accuracy: 22.6833%\n"
     ]
    }
   ],
   "source": [
    "# Compile the model\n",
    "model2.compile(loss='categorical_crossentropy', metrics=['accuracy'], optimizer='adam')\n",
    "\n",
    "# Display model architecture summary \n",
    "model2.summary()\n",
    "\n",
    "# Calculate pre-training accuracy \n",
    "score = model2.evaluate([ms_test, ch_test, mf_test], y_test, verbose=1)\n",
    "accuracy = 100*score[1]\n",
    "\n",
    "print(\"Pre-training accuracy: %.4f%%\" % accuracy) "
   ]
  },
  {
   "cell_type": "code",
   "execution_count": 26,
   "metadata": {},
   "outputs": [
    {
     "name": "stdout",
     "output_type": "stream",
     "text": [
      "Epoch 1/1000\n",
      "2400/2400 [==============================] - 221s 92ms/step - loss: 0.4403 - accuracy: 0.7830 - val_loss: 0.3666 - val_accuracy: 0.8155\n",
      "\n",
      "Epoch 00001: val_loss improved from inf to 0.36656, saving model to saved_models/weights.best.basic_cnn.hdf5\n",
      "Epoch 2/1000\n",
      "2400/2400 [==============================] - 221s 92ms/step - loss: 0.3380 - accuracy: 0.8476 - val_loss: 0.3045 - val_accuracy: 0.8735\n",
      "\n",
      "Epoch 00002: val_loss improved from 0.36656 to 0.30455, saving model to saved_models/weights.best.basic_cnn.hdf5\n",
      "Epoch 3/1000\n",
      "2400/2400 [==============================] - 220s 92ms/step - loss: 0.3194 - accuracy: 0.8584 - val_loss: 0.2882 - val_accuracy: 0.8763\n",
      "\n",
      "Epoch 00003: val_loss improved from 0.30455 to 0.28822, saving model to saved_models/weights.best.basic_cnn.hdf5\n",
      "Epoch 4/1000\n",
      "2400/2400 [==============================] - 220s 92ms/step - loss: 0.3054 - accuracy: 0.8677 - val_loss: 0.2929 - val_accuracy: 0.8713\n",
      "\n",
      "Epoch 00004: val_loss did not improve from 0.28822\n",
      "Epoch 5/1000\n",
      "2400/2400 [==============================] - 220s 92ms/step - loss: 0.2924 - accuracy: 0.8722 - val_loss: 0.2967 - val_accuracy: 0.8780\n",
      "\n",
      "Epoch 00005: val_loss did not improve from 0.28822\n",
      "Epoch 6/1000\n",
      "2400/2400 [==============================] - 220s 92ms/step - loss: 0.2812 - accuracy: 0.8750 - val_loss: 0.2613 - val_accuracy: 0.8890\n",
      "\n",
      "Epoch 00006: val_loss improved from 0.28822 to 0.26133, saving model to saved_models/weights.best.basic_cnn.hdf5\n",
      "Epoch 7/1000\n",
      "2400/2400 [==============================] - 220s 92ms/step - loss: 0.2764 - accuracy: 0.8798 - val_loss: 0.2512 - val_accuracy: 0.8922\n",
      "\n",
      "Epoch 00007: val_loss improved from 0.26133 to 0.25124, saving model to saved_models/weights.best.basic_cnn.hdf5\n",
      "Epoch 8/1000\n",
      "2400/2400 [==============================] - 221s 92ms/step - loss: 0.2681 - accuracy: 0.8848 - val_loss: 0.2514 - val_accuracy: 0.8942\n",
      "\n",
      "Epoch 00008: val_loss did not improve from 0.25124\n",
      "Epoch 9/1000\n",
      "2400/2400 [==============================] - 221s 92ms/step - loss: 0.2658 - accuracy: 0.8832 - val_loss: 0.2445 - val_accuracy: 0.8945\n",
      "\n",
      "Epoch 00009: val_loss improved from 0.25124 to 0.24449, saving model to saved_models/weights.best.basic_cnn.hdf5\n",
      "Epoch 10/1000\n",
      "2400/2400 [==============================] - 222s 92ms/step - loss: 0.2630 - accuracy: 0.8877 - val_loss: 0.2495 - val_accuracy: 0.8940\n",
      "\n",
      "Epoch 00010: val_loss did not improve from 0.24449\n",
      "Epoch 11/1000\n",
      "2400/2400 [==============================] - 220s 92ms/step - loss: 0.2591 - accuracy: 0.8874 - val_loss: 0.2445 - val_accuracy: 0.8927\n",
      "\n",
      "Epoch 00011: val_loss improved from 0.24449 to 0.24449, saving model to saved_models/weights.best.basic_cnn.hdf5\n",
      "Epoch 12/1000\n",
      "2400/2400 [==============================] - 221s 92ms/step - loss: 0.2585 - accuracy: 0.8858 - val_loss: 0.2590 - val_accuracy: 0.8855\n",
      "\n",
      "Epoch 00012: val_loss did not improve from 0.24449\n",
      "Epoch 13/1000\n",
      "2400/2400 [==============================] - 221s 92ms/step - loss: 0.2541 - accuracy: 0.8877 - val_loss: 0.2412 - val_accuracy: 0.8957\n",
      "\n",
      "Epoch 00013: val_loss improved from 0.24449 to 0.24116, saving model to saved_models/weights.best.basic_cnn.hdf5\n",
      "Epoch 14/1000\n",
      "2400/2400 [==============================] - 223s 93ms/step - loss: 0.2501 - accuracy: 0.8904 - val_loss: 0.2492 - val_accuracy: 0.8908\n",
      "\n",
      "Epoch 00014: val_loss did not improve from 0.24116\n",
      "Epoch 15/1000\n",
      "2400/2400 [==============================] - 221s 92ms/step - loss: 0.2488 - accuracy: 0.8919 - val_loss: 0.2419 - val_accuracy: 0.8973\n",
      "\n",
      "Epoch 00015: val_loss did not improve from 0.24116\n",
      "Epoch 16/1000\n",
      "2400/2400 [==============================] - 221s 92ms/step - loss: 0.2464 - accuracy: 0.8924 - val_loss: 0.2551 - val_accuracy: 0.8853\n",
      "\n",
      "Epoch 00016: val_loss did not improve from 0.24116\n",
      "Epoch 17/1000\n",
      "2400/2400 [==============================] - 220s 92ms/step - loss: 0.2488 - accuracy: 0.8921 - val_loss: 0.2369 - val_accuracy: 0.9000\n",
      "\n",
      "Epoch 00017: val_loss improved from 0.24116 to 0.23691, saving model to saved_models/weights.best.basic_cnn.hdf5\n",
      "Epoch 18/1000\n",
      "2400/2400 [==============================] - 219s 91ms/step - loss: 0.2447 - accuracy: 0.8938 - val_loss: 0.2513 - val_accuracy: 0.8965\n",
      "\n",
      "Epoch 00018: val_loss did not improve from 0.23691\n",
      "Epoch 19/1000\n",
      "2400/2400 [==============================] - 222s 92ms/step - loss: 0.2460 - accuracy: 0.8924 - val_loss: 0.2316 - val_accuracy: 0.8992\n",
      "\n",
      "Epoch 00019: val_loss improved from 0.23691 to 0.23161, saving model to saved_models/weights.best.basic_cnn.hdf5\n",
      "Epoch 20/1000\n",
      "2400/2400 [==============================] - 220s 92ms/step - loss: 0.2432 - accuracy: 0.8949 - val_loss: 0.2429 - val_accuracy: 0.8928\n",
      "\n",
      "Epoch 00020: val_loss did not improve from 0.23161\n",
      "Epoch 21/1000\n",
      "2400/2400 [==============================] - 222s 93ms/step - loss: 0.2408 - accuracy: 0.8945 - val_loss: 0.2415 - val_accuracy: 0.8958\n",
      "\n",
      "Epoch 00021: val_loss did not improve from 0.23161\n",
      "Epoch 22/1000\n",
      "2400/2400 [==============================] - 222s 93ms/step - loss: 0.2421 - accuracy: 0.8939 - val_loss: 0.2837 - val_accuracy: 0.8838\n",
      "\n",
      "Epoch 00022: val_loss did not improve from 0.23161\n",
      "Epoch 23/1000\n",
      "2400/2400 [==============================] - 222s 92ms/step - loss: 0.2407 - accuracy: 0.8947 - val_loss: 0.2294 - val_accuracy: 0.9008\n",
      "\n",
      "Epoch 00023: val_loss improved from 0.23161 to 0.22938, saving model to saved_models/weights.best.basic_cnn.hdf5\n",
      "Epoch 24/1000\n",
      "2400/2400 [==============================] - 221s 92ms/step - loss: 0.2398 - accuracy: 0.8962 - val_loss: 0.2359 - val_accuracy: 0.9007\n",
      "\n",
      "Epoch 00024: val_loss did not improve from 0.22938\n",
      "Epoch 25/1000\n",
      "2400/2400 [==============================] - 221s 92ms/step - loss: 0.2402 - accuracy: 0.8952 - val_loss: 0.2367 - val_accuracy: 0.9005\n",
      "\n",
      "Epoch 00025: val_loss did not improve from 0.22938\n",
      "Epoch 26/1000\n",
      "2400/2400 [==============================] - 220s 92ms/step - loss: 0.2380 - accuracy: 0.8957 - val_loss: 0.2288 - val_accuracy: 0.9028\n",
      "\n",
      "Epoch 00026: val_loss improved from 0.22938 to 0.22877, saving model to saved_models/weights.best.basic_cnn.hdf5\n",
      "Epoch 27/1000\n",
      "2400/2400 [==============================] - 221s 92ms/step - loss: 0.2388 - accuracy: 0.8974 - val_loss: 0.2486 - val_accuracy: 0.8865\n",
      "\n",
      "Epoch 00027: val_loss did not improve from 0.22877\n",
      "Epoch 28/1000\n",
      "2400/2400 [==============================] - 222s 93ms/step - loss: 0.2358 - accuracy: 0.8957 - val_loss: 0.2312 - val_accuracy: 0.9028\n",
      "\n",
      "Epoch 00028: val_loss did not improve from 0.22877\n",
      "Epoch 29/1000\n",
      "2400/2400 [==============================] - 220s 91ms/step - loss: 0.2366 - accuracy: 0.8963 - val_loss: 0.2327 - val_accuracy: 0.9040\n",
      "\n",
      "Epoch 00029: val_loss did not improve from 0.22877\n",
      "Epoch 30/1000\n",
      "2400/2400 [==============================] - 221s 92ms/step - loss: 0.2345 - accuracy: 0.8967 - val_loss: 0.2376 - val_accuracy: 0.8962\n",
      "\n",
      "Epoch 00030: val_loss did not improve from 0.22877\n",
      "Epoch 31/1000\n",
      "2400/2400 [==============================] - 222s 93ms/step - loss: 0.2325 - accuracy: 0.8988 - val_loss: 0.2292 - val_accuracy: 0.9043\n",
      "\n",
      "Epoch 00031: val_loss did not improve from 0.22877\n",
      "Epoch 32/1000\n",
      "2400/2400 [==============================] - 222s 92ms/step - loss: 0.2322 - accuracy: 0.8999 - val_loss: 0.2354 - val_accuracy: 0.9030\n",
      "\n",
      "Epoch 00032: val_loss did not improve from 0.22877\n",
      "Epoch 33/1000\n",
      "2400/2400 [==============================] - 222s 92ms/step - loss: 0.2326 - accuracy: 0.9001 - val_loss: 0.2326 - val_accuracy: 0.9017\n",
      "\n",
      "Epoch 00033: val_loss did not improve from 0.22877\n",
      "Epoch 34/1000\n",
      "2400/2400 [==============================] - 222s 92ms/step - loss: 0.2322 - accuracy: 0.8982 - val_loss: 0.2336 - val_accuracy: 0.9002\n",
      "\n",
      "Epoch 00034: val_loss did not improve from 0.22877\n",
      "Epoch 35/1000\n",
      "2400/2400 [==============================] - 221s 92ms/step - loss: 0.2316 - accuracy: 0.9012 - val_loss: 0.2453 - val_accuracy: 0.8927\n",
      "\n",
      "Epoch 00035: val_loss did not improve from 0.22877\n",
      "Epoch 36/1000\n",
      "2400/2400 [==============================] - 223s 93ms/step - loss: 0.2304 - accuracy: 0.9020 - val_loss: 0.2354 - val_accuracy: 0.9012\n",
      "\n",
      "Epoch 00036: val_loss did not improve from 0.22877\n",
      "Training completed in time:  2:12:40.422638\n"
     ]
    }
   ],
   "source": [
    "from datetime import datetime \n",
    "\n",
    "num_epochs = 1000\n",
    "num_batch_size = 10\n",
    "\n",
    "start = datetime.now()\n",
    "\n",
    "model2.fit([ms_train, ch_train, mf_train], y_train, \n",
    "          batch_size=num_batch_size, \n",
    "          epochs=num_epochs, \n",
    "          validation_data=([ms_test, ch_test, mf_test], y_test), \n",
    "          callbacks=my_callbacks, \n",
    "          verbose=1)\n",
    "\n",
    "\n",
    "duration = datetime.now() - start\n",
    "print(\"Training completed in time: \", duration)"
   ]
  },
  {
   "cell_type": "code",
   "execution_count": 28,
   "metadata": {},
   "outputs": [
    {
     "name": "stdout",
     "output_type": "stream",
     "text": [
      "Training Accuracy:  0.9125833511352539\n",
      "Testing Accuracy:  0.9011666774749756\n"
     ]
    }
   ],
   "source": [
    "# Evaluating the model on the training and testing set\n",
    "score = model2.evaluate([ms_train, ch_train, mf_train], y_train, verbose=0)\n",
    "print(\"Training Accuracy: \", score[1])\n",
    "\n",
    "score = model2.evaluate([ms_test,ch_test, mf_test], y_test, verbose=0)\n",
    "print(\"Testing Accuracy: \", score[1])"
   ]
  },
  {
   "cell_type": "code",
   "execution_count": 30,
   "metadata": {},
   "outputs": [
    {
     "name": "stdout",
     "output_type": "stream",
     "text": [
      "INFO:tensorflow:Assets written to: multicnn3/assets\n"
     ]
    }
   ],
   "source": [
    "model2.save('multicnn3')"
   ]
  },
  {
   "cell_type": "code",
   "execution_count": null,
   "metadata": {},
   "outputs": [],
   "source": []
  }
 ],
 "metadata": {
  "kernelspec": {
   "display_name": "Python 3",
   "language": "python",
   "name": "python3"
  },
  "language_info": {
   "codemirror_mode": {
    "name": "ipython",
    "version": 3
   },
   "file_extension": ".py",
   "mimetype": "text/x-python",
   "name": "python",
   "nbconvert_exporter": "python",
   "pygments_lexer": "ipython3",
   "version": "3.8.6"
  }
 },
 "nbformat": 4,
 "nbformat_minor": 4
}
