{
 "cells": [
  {
   "cell_type": "markdown",
   "metadata": {},
   "source": [
    "# Imports"
   ]
  },
  {
   "cell_type": "code",
   "execution_count": 1,
   "metadata": {},
   "outputs": [],
   "source": [
    "import pandas as pd\n",
    "import numpy as np\n",
    "\n",
    "import librosa\n",
    "import librosa.display\n",
    "\n",
    "import matplotlib.pyplot as plt\n",
    "\n",
    "from tqdm import tqdm"
   ]
  },
  {
   "cell_type": "markdown",
   "metadata": {},
   "source": [
    "# Load File Paths"
   ]
  },
  {
   "cell_type": "code",
   "execution_count": 2,
   "metadata": {},
   "outputs": [
    {
     "data": {
      "text/html": [
       "<div>\n",
       "<style scoped>\n",
       "    .dataframe tbody tr th:only-of-type {\n",
       "        vertical-align: middle;\n",
       "    }\n",
       "\n",
       "    .dataframe tbody tr th {\n",
       "        vertical-align: top;\n",
       "    }\n",
       "\n",
       "    .dataframe thead th {\n",
       "        text-align: right;\n",
       "    }\n",
       "</style>\n",
       "<table border=\"1\" class=\"dataframe\">\n",
       "  <thead>\n",
       "    <tr style=\"text-align: right;\">\n",
       "      <th></th>\n",
       "      <th>file</th>\n",
       "      <th>label</th>\n",
       "    </tr>\n",
       "  </thead>\n",
       "  <tbody>\n",
       "    <tr>\n",
       "      <th>0</th>\n",
       "      <td>data/train/train1.aiff</td>\n",
       "      <td>0</td>\n",
       "    </tr>\n",
       "    <tr>\n",
       "      <th>1</th>\n",
       "      <td>data/train/train2.aiff</td>\n",
       "      <td>0</td>\n",
       "    </tr>\n",
       "    <tr>\n",
       "      <th>2</th>\n",
       "      <td>data/train/train3.aiff</td>\n",
       "      <td>0</td>\n",
       "    </tr>\n",
       "    <tr>\n",
       "      <th>3</th>\n",
       "      <td>data/train/train4.aiff</td>\n",
       "      <td>0</td>\n",
       "    </tr>\n",
       "    <tr>\n",
       "      <th>4</th>\n",
       "      <td>data/train/train5.aiff</td>\n",
       "      <td>0</td>\n",
       "    </tr>\n",
       "    <tr>\n",
       "      <th>5</th>\n",
       "      <td>data/train/train6.aiff</td>\n",
       "      <td>1</td>\n",
       "    </tr>\n",
       "    <tr>\n",
       "      <th>6</th>\n",
       "      <td>data/train/train7.aiff</td>\n",
       "      <td>1</td>\n",
       "    </tr>\n",
       "    <tr>\n",
       "      <th>7</th>\n",
       "      <td>data/train/train8.aiff</td>\n",
       "      <td>0</td>\n",
       "    </tr>\n",
       "    <tr>\n",
       "      <th>8</th>\n",
       "      <td>data/train/train9.aiff</td>\n",
       "      <td>1</td>\n",
       "    </tr>\n",
       "    <tr>\n",
       "      <th>9</th>\n",
       "      <td>data/train/train10.aiff</td>\n",
       "      <td>0</td>\n",
       "    </tr>\n",
       "  </tbody>\n",
       "</table>\n",
       "</div>"
      ],
      "text/plain": [
       "                      file  label\n",
       "0   data/train/train1.aiff      0\n",
       "1   data/train/train2.aiff      0\n",
       "2   data/train/train3.aiff      0\n",
       "3   data/train/train4.aiff      0\n",
       "4   data/train/train5.aiff      0\n",
       "5   data/train/train6.aiff      1\n",
       "6   data/train/train7.aiff      1\n",
       "7   data/train/train8.aiff      0\n",
       "8   data/train/train9.aiff      1\n",
       "9  data/train/train10.aiff      0"
      ]
     },
     "execution_count": 2,
     "metadata": {},
     "output_type": "execute_result"
    }
   ],
   "source": [
    "#File location\n",
    "labels_file = 'labels.csv'\n",
    "\n",
    "#Load label file.\n",
    "df = pd.read_csv(labels_file, index_col=0)\n",
    "\n",
    "#Check that it loaded correctly.\n",
    "df.head(10)"
   ]
  },
  {
   "cell_type": "markdown",
   "metadata": {},
   "source": [
    "# Generate Features"
   ]
  },
  {
   "cell_type": "code",
   "execution_count": null,
   "metadata": {},
   "outputs": [],
   "source": [
    "def create_melspec(file_name, sampling_rate):\n",
    "    audio, sr = librosa.load(file_name, res_type='kaiser_fast')\n",
    "    norm = (audio - audio.mean())/ audio.std()\n",
    "    melspec_feature = librosa.feature.melspectrogram(y=norm, sr=sampling_rate)\n",
    "    melspec_scaled_feature = librosa.power_to_db(melspec_feature, top_db=60)\n",
    "    melspec_scaled_feature = melspec_scaled_feature.astype(np.float32)\n",
    "    return melspec_scaled_feature"
   ]
  },
  {
   "cell_type": "code",
   "execution_count": null,
   "metadata": {},
   "outputs": [],
   "source": [
    "mel_spec = []\n",
    "\n",
    "for i in tqdm(df['file']):\n",
    "    ms = create_melspec(i)\n",
    "    mel_spec.append(ms)"
   ]
  },
  {
   "cell_type": "code",
   "execution_count": null,
   "metadata": {},
   "outputs": [],
   "source": [
    "df['mel_spec'] = mel_spec"
   ]
  },
  {
   "cell_type": "code",
   "execution_count": null,
   "metadata": {},
   "outputs": [],
   "source": [
    "def create_chroma(file_name):\n",
    "    audio, sr = librosa.load(file_name)\n",
    "    chroma_feature = librosa.feature.chroma_stft(y=audio, sr=44100)\n",
    "    return chroma_feature"
   ]
  },
  {
   "cell_type": "code",
   "execution_count": null,
   "metadata": {},
   "outputs": [],
   "source": [
    "chroma = []\n",
    "\n",
    "for i in tqdm(df['file']):\n",
    "    ch = create_chroma(i)\n",
    "    chroma.append(ch)"
   ]
  },
  {
   "cell_type": "code",
   "execution_count": null,
   "metadata": {},
   "outputs": [],
   "source": [
    "df['chroma'] = chroma"
   ]
  },
  {
   "cell_type": "code",
   "execution_count": null,
   "metadata": {},
   "outputs": [],
   "source": [
    "df.to_pickle('features.csv')"
   ]
  },
  {
   "cell_type": "code",
   "execution_count": 6,
   "metadata": {},
   "outputs": [],
   "source": [
    "df1 = pd.read_pickle('features.csv')"
   ]
  },
  {
   "cell_type": "code",
   "execution_count": 7,
   "metadata": {},
   "outputs": [],
   "source": [
    "def create_mfcc(file_name):\n",
    "    audio, sr = librosa.load(file_name)\n",
    "    chroma_feature = librosa.feature.mfcc(y=audio, sr=44100)\n",
    "    return chroma_feature"
   ]
  },
  {
   "cell_type": "code",
   "execution_count": 8,
   "metadata": {},
   "outputs": [
    {
     "name": "stderr",
     "output_type": "stream",
     "text": [
      "100%|██████████| 30000/30000 [46:20<00:00, 10.79it/s] \n"
     ]
    }
   ],
   "source": [
    "mfcc = []\n",
    "\n",
    "for i in tqdm(df['file']):\n",
    "    mf = create_mfcc(i)\n",
    "    mfcc.append(mf)"
   ]
  },
  {
   "cell_type": "code",
   "execution_count": 9,
   "metadata": {},
   "outputs": [],
   "source": [
    "df1['mfcc'] = mfcc"
   ]
  },
  {
   "cell_type": "code",
   "execution_count": 10,
   "metadata": {},
   "outputs": [
    {
     "data": {
      "text/html": [
       "<div>\n",
       "<style scoped>\n",
       "    .dataframe tbody tr th:only-of-type {\n",
       "        vertical-align: middle;\n",
       "    }\n",
       "\n",
       "    .dataframe tbody tr th {\n",
       "        vertical-align: top;\n",
       "    }\n",
       "\n",
       "    .dataframe thead th {\n",
       "        text-align: right;\n",
       "    }\n",
       "</style>\n",
       "<table border=\"1\" class=\"dataframe\">\n",
       "  <thead>\n",
       "    <tr style=\"text-align: right;\">\n",
       "      <th></th>\n",
       "      <th>file</th>\n",
       "      <th>label</th>\n",
       "      <th>mel_spec</th>\n",
       "      <th>chroma</th>\n",
       "      <th>mfcc</th>\n",
       "    </tr>\n",
       "  </thead>\n",
       "  <tbody>\n",
       "    <tr>\n",
       "      <th>0</th>\n",
       "      <td>data/train/train1.aiff</td>\n",
       "      <td>0</td>\n",
       "      <td>[[-23.034714, -21.979626, -21.229372, -24.6853...</td>\n",
       "      <td>[[0.31054255, 0.492938, 0.4222786, 0.2000359, ...</td>\n",
       "      <td>[[-583.5913, -585.6181, -586.71844, -586.3785,...</td>\n",
       "    </tr>\n",
       "    <tr>\n",
       "      <th>1</th>\n",
       "      <td>data/train/train2.aiff</td>\n",
       "      <td>0</td>\n",
       "      <td>[[-39.132935, -43.144306, -44.267673, -40.4978...</td>\n",
       "      <td>[[0.77240217, 0.4858926, 0.57792246, 0.6777284...</td>\n",
       "      <td>[[-551.0518, -595.86365, -686.11633, -690.5628...</td>\n",
       "    </tr>\n",
       "    <tr>\n",
       "      <th>2</th>\n",
       "      <td>data/train/train3.aiff</td>\n",
       "      <td>0</td>\n",
       "      <td>[[-29.182926, -34.866005, -49.983154, -50.7379...</td>\n",
       "      <td>[[0.34971952, 0.612205, 0.78210807, 1.0, 0.630...</td>\n",
       "      <td>[[-580.9305, -609.74207, -674.57465, -674.7717...</td>\n",
       "    </tr>\n",
       "    <tr>\n",
       "      <th>3</th>\n",
       "      <td>data/train/train4.aiff</td>\n",
       "      <td>0</td>\n",
       "      <td>[[-38.25903, -41.157684, -50.174606, -53.21215...</td>\n",
       "      <td>[[0.9187672, 1.0, 0.65901333, 1.0, 1.0, 0.5160...</td>\n",
       "      <td>[[-655.11835, -657.95215, -661.39966, -655.009...</td>\n",
       "    </tr>\n",
       "    <tr>\n",
       "      <th>4</th>\n",
       "      <td>data/train/train5.aiff</td>\n",
       "      <td>0</td>\n",
       "      <td>[[-29.123068, -35.563293, -50.79712, -52.36865...</td>\n",
       "      <td>[[0.9564307, 0.88239145, 1.0, 1.0, 0.52427757,...</td>\n",
       "      <td>[[-556.8616, -578.51294, -618.99274, -616.5934...</td>\n",
       "    </tr>\n",
       "  </tbody>\n",
       "</table>\n",
       "</div>"
      ],
      "text/plain": [
       "                     file  label  \\\n",
       "0  data/train/train1.aiff      0   \n",
       "1  data/train/train2.aiff      0   \n",
       "2  data/train/train3.aiff      0   \n",
       "3  data/train/train4.aiff      0   \n",
       "4  data/train/train5.aiff      0   \n",
       "\n",
       "                                            mel_spec  \\\n",
       "0  [[-23.034714, -21.979626, -21.229372, -24.6853...   \n",
       "1  [[-39.132935, -43.144306, -44.267673, -40.4978...   \n",
       "2  [[-29.182926, -34.866005, -49.983154, -50.7379...   \n",
       "3  [[-38.25903, -41.157684, -50.174606, -53.21215...   \n",
       "4  [[-29.123068, -35.563293, -50.79712, -52.36865...   \n",
       "\n",
       "                                              chroma  \\\n",
       "0  [[0.31054255, 0.492938, 0.4222786, 0.2000359, ...   \n",
       "1  [[0.77240217, 0.4858926, 0.57792246, 0.6777284...   \n",
       "2  [[0.34971952, 0.612205, 0.78210807, 1.0, 0.630...   \n",
       "3  [[0.9187672, 1.0, 0.65901333, 1.0, 1.0, 0.5160...   \n",
       "4  [[0.9564307, 0.88239145, 1.0, 1.0, 0.52427757,...   \n",
       "\n",
       "                                                mfcc  \n",
       "0  [[-583.5913, -585.6181, -586.71844, -586.3785,...  \n",
       "1  [[-551.0518, -595.86365, -686.11633, -690.5628...  \n",
       "2  [[-580.9305, -609.74207, -674.57465, -674.7717...  \n",
       "3  [[-655.11835, -657.95215, -661.39966, -655.009...  \n",
       "4  [[-556.8616, -578.51294, -618.99274, -616.5934...  "
      ]
     },
     "execution_count": 10,
     "metadata": {},
     "output_type": "execute_result"
    }
   ],
   "source": [
    "df1.head()"
   ]
  },
  {
   "cell_type": "code",
   "execution_count": 11,
   "metadata": {},
   "outputs": [],
   "source": [
    "df1.to_pickle('features.csv')"
   ]
  },
  {
   "cell_type": "code",
   "execution_count": null,
   "metadata": {},
   "outputs": [],
   "source": []
  }
 ],
 "metadata": {
  "kernelspec": {
   "display_name": "Python 3",
   "language": "python",
   "name": "python3"
  },
  "language_info": {
   "codemirror_mode": {
    "name": "ipython",
    "version": 3
   },
   "file_extension": ".py",
   "mimetype": "text/x-python",
   "name": "python",
   "nbconvert_exporter": "python",
   "pygments_lexer": "ipython3",
   "version": "3.8.6"
  }
 },
 "nbformat": 4,
 "nbformat_minor": 4
}
